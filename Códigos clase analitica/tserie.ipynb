{
 "cells": [
  {
   "cell_type": "code",
   "execution_count": null,
   "id": "e3718f09",
   "metadata": {},
   "outputs": [],
   "source": [
    "#Librerías y paquetes\n",
    "\n",
    "import pandas as pd\n",
    "import numpy as np\n",
    "import matplotlib.pylab as plt\n",
    "%matplotlib inline\n",
    "plt.rcParams[\"figure.figsize\"]=(16,9)\n",
    "plt.style.use(\"fast\")\n",
    "\n",
    "from keras.models import Sequential\n",
    "from keras.layers import Dense,Activation,Flatten\n",
    "from sklearn.preprocessing import MinMaxScaler\n"
   ]
  },
  {
   "cell_type": "code",
   "execution_count": null,
   "id": "9c38d0c7",
   "metadata": {},
   "outputs": [],
   "source": [
    "# Cargar datos\n",
    "\n",
    "df = pd.read_csv(r\"C:\\Users\\carlo\\OneDrive\\Escritorio\\JAVERIANA\\tserie\\tserie.csv\", delimiter=';', decimal=',')  \n",
    "df.info()\n",
    "print(df)"
   ]
  },
  {
   "cell_type": "code",
   "execution_count": null,
   "id": "5e5bdf46",
   "metadata": {},
   "outputs": [],
   "source": [
    "df['unds'] = df['unds'].astype('float64')\n",
    "df"
   ]
  },
  {
   "cell_type": "code",
   "execution_count": null,
   "id": "b25b505e",
   "metadata": {},
   "outputs": [],
   "source": [
    "# Estadística descriptiva de la base\n",
    "\n",
    "df.describe\n"
   ]
  },
  {
   "cell_type": "code",
   "execution_count": null,
   "id": "0a73ecaf",
   "metadata": {},
   "outputs": [],
   "source": [
    "# Separar y\n",
    "\n",
    "y = df['unds']\n",
    "print(y)"
   ]
  },
  {
   "cell_type": "code",
   "execution_count": null,
   "id": "ae9521c8",
   "metadata": {},
   "outputs": [],
   "source": [
    "# Graficar serie\n",
    "\n",
    "plt.plot(y)\n"
   ]
  },
  {
   "cell_type": "code",
   "execution_count": null,
   "id": "d49971f6",
   "metadata": {},
   "outputs": [],
   "source": [
    "# escalar datos (-1,1)\n",
    "\n",
    "scaler=MinMaxScaler(feature_range=(-1,1))\n",
    "\n",
    "y=y.reshape(-1,1)\n",
    "\n",
    "y=scaler.fit_transform(y)\n",
    "\n",
    "y\n",
    "        \n",
    "                          "
   ]
  },
  {
   "cell_type": "code",
   "execution_count": null,
   "id": "6030c489",
   "metadata": {},
   "outputs": [],
   "source": [
    "# Convertir los datos para un problema supervisado\n",
    "#https://machinelearningmastery.com/convert-time-series-supervised-learning-problem-python/\n",
    "\n",
    "PASOS=7\n",
    "\n",
    "from pandas import DataFrame\n",
    "from pandas import concat\n",
    "\n",
    "\n",
    "def series_to_supervised(y, n_in=1, n_out=1, dropnan=True):\n",
    "\n",
    "\tn_vars = 1 if type(y) is list else y.shape[1]\n",
    "\tdf = pd.DataFrame(y)\n",
    "\tcols, names = list(), list()\n",
    "\t# input sequence (t-n, ... t-1)\n",
    "\tfor i in range(n_in, 0, -1):\n",
    "\t\tcols.append(df.shift(i))\n",
    "\t\tnames += [('var%d(t-%d)' % (j+1, i)) for j in range(n_vars)]\n",
    "\t# forecast sequence (t, t+1, ... t+n)\n",
    "\tfor i in range(0, n_out):\n",
    "\t\tcols.append(df.shift(-i))\n",
    "\t\tif i == 0:\n",
    "\t\t\tnames += [('var%d(t)' % (j+1)) for j in range(n_vars)]\n",
    "\t\telse:\n",
    "\t\t\tnames += [('var%d(t+%d)' % (j+1, i)) for j in range(n_vars)]\n",
    "\t# put it all together\n",
    "\tagg = concat(cols, axis=1)\n",
    "\tagg.columns = names\n",
    "\t# drop rows with NaN values\n",
    "\tif dropnan:\n",
    "\t\tagg.dropna(inplace=True)\n",
    "\treturn agg\n",
    "\n",
    "\n",
    "datos=series_to_supervised(y,PASOS)\n",
    "datos\n"
   ]
  },
  {
   "cell_type": "code",
   "execution_count": null,
   "id": "d4ebac67",
   "metadata": {},
   "outputs": [],
   "source": [
    "#Separar en datos de entrenamiento y prueba (OJO manteniendo el orden temporal)\n",
    "\n",
    "values=datos.values\n",
    "n_train_days=604-(30+PASOS)\n",
    "train=values[:n_train_days, :]\n",
    "test=values[n_train_days:, :]\n",
    "\n",
    "\n",
    "#Separar entradas y salidas\n",
    "\n",
    "x_train, y_train=train[:, :-1],train[:, :-1]\n",
    "x_test, y_test=test[:, :-1],test[:, :-1]\n",
    "\n",
    "\n",
    "x_train=x_train.reshape((x_train.shape[0],1,x_train.shape[1]))\n",
    "x_test=x_test.reshape((x_test.shape[0],1,x_test.shape[1]))\n",
    "print(x_train.shape,y_train.shape,x_test.shape,y_test.shape)\n"
   ]
  },
  {
   "cell_type": "code",
   "execution_count": null,
   "id": "d40a1269",
   "metadata": {},
   "outputs": [],
   "source": [
    "model = Sequential()\n",
    "model.add(Flatten(input_shape=(1, 7)))\n",
    "model.add(Dense(7, activation='tanh'))\n",
    "model.add(Dense(1, activation='tanh'))\n",
    "model.compile(loss='mean_absolute_error',metrics=[\"mse\"],optimizer='Adam')"
   ]
  },
  {
   "cell_type": "code",
   "execution_count": null,
   "id": "0b5c213b",
   "metadata": {},
   "outputs": [],
   "source": [
    "# Optimizar el modelo\n",
    "\n",
    "model.fit(x_train,y_train,epochs=1000)\n",
    "print(model.summary())\n"
   ]
  },
  {
   "cell_type": "code",
   "execution_count": null,
   "id": "48384011",
   "metadata": {},
   "outputs": [],
   "source": [
    "prediccion=model.predict(x_test)\n",
    "prediccion\n"
   ]
  },
  {
   "cell_type": "code",
   "execution_count": null,
   "id": "f46d28a5",
   "metadata": {},
   "outputs": [],
   "source": [
    "x_new=[[0.38,0.02,1,-0.34,-0.45,-0.45,0.1]]\n",
    "y_new=model.predict(x_new)\n",
    "\n",
    "print(y_new)"
   ]
  },
  {
   "cell_type": "code",
   "execution_count": null,
   "id": "5b5b7de0",
   "metadata": {},
   "outputs": [],
   "source": []
  }
 ],
 "metadata": {
  "kernelspec": {
   "display_name": "Python 3 (ipykernel)",
   "language": "python",
   "name": "python3"
  },
  "language_info": {
   "codemirror_mode": {
    "name": "ipython",
    "version": 3
   },
   "file_extension": ".py",
   "mimetype": "text/x-python",
   "name": "python",
   "nbconvert_exporter": "python",
   "pygments_lexer": "ipython3",
   "version": "3.9.7"
  }
 },
 "nbformat": 4,
 "nbformat_minor": 5
}
