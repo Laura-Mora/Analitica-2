{
 "cells": [
  {
   "cell_type": "code",
   "execution_count": null,
   "id": "fd6b192d",
   "metadata": {},
   "outputs": [],
   "source": [
    "# Modelamiento de la resistencia del concreto de alto desempeño, usando redes neuronales artificiales\n",
    "\n",
    "# Referencia:  MODELING OF STRENGTH OF HIGH-PERFORMANCE CONCRETE USING ARTIFICIAL NEURAL NETWORKS, I.-C. Yeh, \n",
    "# Cement and Concrete Research, Vol. 28, No. 12, pp. 1797–1808, 1998"
   ]
  },
  {
   "cell_type": "code",
   "execution_count": null,
   "id": "b28aceb6",
   "metadata": {},
   "outputs": [],
   "source": [
    "# Librerias y paquetes\n",
    "\n",
    "import tensorflow\n",
    "import numpy as np\n",
    "import pandas as pd \n",
    "import matplotlib.pyplot as plt\n",
    "import seaborn as sns\n",
    "import keras\n",
    "import math"
   ]
  },
  {
   "cell_type": "code",
   "execution_count": null,
   "id": "ded83f8b",
   "metadata": {},
   "outputs": [],
   "source": [
    "# Cargue del dataset\n",
    "\n",
    "df = pd.read_csv(r\"C:\\Users\\carlo\\Downloads\\Concrete_Data_Yeh.csv\")\n",
    "print(df.info())\n",
    "print(df.head())"
   ]
  },
  {
   "cell_type": "code",
   "execution_count": null,
   "id": "24ad3a54",
   "metadata": {},
   "outputs": [],
   "source": [
    "# Separar variables independiente de la dependiente (respuesta)\n",
    "\n",
    "x_org = df.drop('csMPa',axis=1).values\n",
    "y_org = df['csMPa'].values"
   ]
  },
  {
   "cell_type": "code",
   "execution_count": null,
   "id": "dd3b8346",
   "metadata": {},
   "outputs": [],
   "source": [
    "# Correlación entre variables independientes\n",
    "\n",
    "corr = df.corr()\n",
    "sns.heatmap(corr,xticklabels=True,yticklabels=True,annot = True,cmap ='coolwarm')\n",
    "plt.title(\"Correlation Between Variables\")\n",
    "plt.savefig('1.png')\n",
    "\n",
    "# # pair Plot\n",
    "sns.pairplot(df,palette=\"husl\",diag_kind=\"kde\")\n",
    "plt.savefig('2.png')"
   ]
  },
  {
   "cell_type": "code",
   "execution_count": null,
   "id": "bbbd82f9",
   "metadata": {},
   "outputs": [],
   "source": [
    "# División del dataset en entrenamiento y prueba\n",
    "\n",
    "from sklearn.model_selection import train_test_split\n",
    "X_train, X_test, y_train, y_test = train_test_split(x_org,y_org, test_size=0.25)"
   ]
  },
  {
   "cell_type": "code",
   "execution_count": null,
   "id": "1a19640e",
   "metadata": {},
   "outputs": [],
   "source": [
    "# Escalamiento de variables\n",
    "\n",
    "# Z-SCORE\n",
    "from sklearn.preprocessing import StandardScaler\n",
    "sc = StandardScaler()\n",
    "X_train = sc.fit_transform(X_train)\n",
    "X_test = sc.transform(X_test)"
   ]
  },
  {
   "cell_type": "code",
   "execution_count": null,
   "id": "ad05f692",
   "metadata": {},
   "outputs": [],
   "source": [
    "# Definición de la Red Neuronal para regresión\n",
    "\n",
    "from keras.models import Sequential\n",
    "from keras.layers import Dense\n"
   ]
  },
  {
   "cell_type": "code",
   "execution_count": null,
   "id": "3a1f969a",
   "metadata": {},
   "outputs": [],
   "source": [
    "# Construcción del primer modelo: una capa oculta con 5 nodos\n",
    "\n",
    "model1 = Sequential()\n",
    "\n",
    "# Capa de entrada y Capa oculta - con neurona de sesgo\n",
    "model1.add(Dense(5,input_dim=8, use_bias=False, activation = 'sigmoid'))\n",
    "\n",
    "# Capa de salida\n",
    "model1.add(Dense(1, use_bias=False, activation='linear'))"
   ]
  },
  {
   "cell_type": "code",
   "execution_count": null,
   "id": "2847723d",
   "metadata": {},
   "outputs": [],
   "source": [
    "# Optimizar , Compilar y Entrenar el Modelo\n",
    "model1.compile(loss=\"mean_squared_error\",optimizer=\"adam\",metrics=[\"mean_squared_error\"])\n",
    "model1.fit(X_train,y_train,epochs=100)\n",
    "print(model1.summary())\n",
    "print(model1.weights)"
   ]
  },
  {
   "cell_type": "code",
   "execution_count": null,
   "id": "c00e6821",
   "metadata": {},
   "outputs": [],
   "source": [
    "# Predicción y cálculo de los coeficientes de determinación y correlación\n",
    "\n",
    "y_predict_e = model1.predict(X_train)\n",
    "y_predict = model1.predict(X_test)\n",
    "\n",
    "from sklearn.metrics import r2_score\n",
    "from sklearn.metrics import mean_squared_error\n",
    "\n",
    "R2e = r2_score(y_train,y_predict_e)\n",
    "R2 = r2_score(y_test,y_predict)\n",
    "\n",
    "print(\"\\nDESEMPEÑO EN ENTRENAMIENTO\")\n",
    "print(\"coeficiente de determinación: \", R2e)\n",
    "print(\"coeficiente de correlación: \", math.sqrt(R2e))\n",
    "print(\"MSE: \", mean_squared_error(y_train,y_predict_e))\n",
    "\n",
    "R2 = r2_score(y_test,y_predict)\n",
    "print(\"\\nDESEMPEÑO EN PRUEBA\")\n",
    "print(\"coeficiente de determinación: \", R2)\n",
    "print(\"coeficiente de correlación: \", math.sqrt(R2))\n",
    "print(\"MSE: \", mean_squared_error(y_test,y_predict))"
   ]
  },
  {
   "cell_type": "code",
   "execution_count": null,
   "id": "6415c618",
   "metadata": {},
   "outputs": [],
   "source": []
  }
 ],
 "metadata": {
  "kernelspec": {
   "display_name": "Python 3 (ipykernel)",
   "language": "python",
   "name": "python3"
  },
  "language_info": {
   "codemirror_mode": {
    "name": "ipython",
    "version": 3
   },
   "file_extension": ".py",
   "mimetype": "text/x-python",
   "name": "python",
   "nbconvert_exporter": "python",
   "pygments_lexer": "ipython3",
   "version": "3.9.7"
  }
 },
 "nbformat": 4,
 "nbformat_minor": 5
}
