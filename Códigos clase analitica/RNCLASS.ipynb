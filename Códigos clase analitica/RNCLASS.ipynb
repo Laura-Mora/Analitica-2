{
 "cells": [
  {
   "cell_type": "code",
   "execution_count": null,
   "id": "27e9e34f",
   "metadata": {},
   "outputs": [],
   "source": [
    "#librerías y paquetes\n",
    "\n",
    "import numpy as np \n",
    "import pandas as pd\n",
    "from sklearn.model_selection import train_test_split\n",
    "from keras.layers import Dense\n",
    "from keras.models import Sequential\n",
    "from keras.optimizers import SGD\n",
    "from keras.optimizers import Adam\n",
    "from keras.utils import to_categorical\n",
    "from matplotlib import pyplot\n"
   ]
  },
  {
   "cell_type": "code",
   "execution_count": null,
   "id": "a896904f",
   "metadata": {},
   "outputs": [],
   "source": [
    "# Cargar base de datos\n",
    "\n",
    "df = pd.read_csv(r\"C:\\Users\\carlo\\OneDrive\\Escritorio\\JAVERIANA\\Clasificación RN\\BASE DE DATOS.csv\", delimiter=';', decimal=',')  \n",
    "df.info()\n",
    "print(df)"
   ]
  },
  {
   "cell_type": "code",
   "execution_count": null,
   "id": "28ea4586",
   "metadata": {},
   "outputs": [],
   "source": [
    "# Separar variables de entrada y objetivo\n",
    "\n",
    "y = df['CLAS']\n",
    "X = df.drop(columns = 'CLAS')\n",
    "\n",
    "print(y)\n",
    "print(X)\n"
   ]
  },
  {
   "cell_type": "code",
   "execution_count": null,
   "id": "e1d6b20a",
   "metadata": {},
   "outputs": [],
   "source": [
    "# Escalar datos de entrada\n",
    "from sklearn.preprocessing import MinMaxScaler\n",
    "\n",
    "scaler = MinMaxScaler()\n",
    "\n",
    "XS = scaler.fit_transform(X)\n",
    "\n",
    "print(XS)\n",
    "print(XS.shape)\n",
    "\n",
    "\n",
    "\n"
   ]
  },
  {
   "cell_type": "code",
   "execution_count": null,
   "id": "f5c7eef2",
   "metadata": {},
   "outputs": [],
   "source": [
    "# Categorizar las clases\n",
    "o = pd.get_dummies(y, columns = ['CLAS'])\n",
    "print(o)"
   ]
  },
  {
   "cell_type": "code",
   "execution_count": null,
   "id": "ca5fc591",
   "metadata": {},
   "outputs": [],
   "source": [
    "#Dividir en entrenamiento y prueba\n",
    "\n",
    "# Definimos la semilla para el generador de número aleatorios\n",
    "np.random.seed(7926)\n",
    "\n",
    "# Dividimos los datos aleatoriamente en 80% para entrenamiento y 20% para prueba \n",
    "X_train, X_test, y_train, y_test = train_test_split(XS,o,test_size = 0.20, stratify=o)\n",
    "\n",
    "\n",
    "# Chequeemos los resultados\n",
    "print(X_train.shape)\n",
    "print(y_train.shape)\n",
    "\n",
    "print(X_test.shape)\n",
    "print(y_test.shape)"
   ]
  },
  {
   "cell_type": "code",
   "execution_count": null,
   "id": "04e67dff",
   "metadata": {},
   "outputs": [],
   "source": [
    "# Definir el modelo\n",
    "model = Sequential()\n",
    "model.add(Dense(50, input_dim=4, activation='relu',use_bias=True, kernel_initializer='he_uniform'))\n",
    "model.add(Dense(10, activation='linear',use_bias=True, kernel_initializer='he_uniform'))\n",
    "model.add(Dense(3, activation='softmax',use_bias=False))"
   ]
  },
  {
   "cell_type": "code",
   "execution_count": null,
   "id": "cc94fd16",
   "metadata": {},
   "outputs": [],
   "source": [
    "\n",
    "opt = SGD(learning_rate=0.8)\n",
    "model.compile(loss='mean_squared_error', optimizer=opt, metrics=['accuracy'])\n",
    "model.fit(X_train,y_train,epochs=1000)\n",
    "print(model.summary())"
   ]
  },
  {
   "cell_type": "code",
   "execution_count": null,
   "id": "8dec949d",
   "metadata": {},
   "outputs": [],
   "source": [
    "Xnew = [[0.38,0.02,1,1]]\n",
    "print(Xnew)\n",
    "\n",
    "ynew = model.predict(Xnew)\n",
    "print(ynew)"
   ]
  },
  {
   "cell_type": "code",
   "execution_count": null,
   "id": "4cf19c07",
   "metadata": {},
   "outputs": [],
   "source": [
    "Xnew = X_test\n",
    "ynew = model.predict(X_test)\n",
    "print(X_test)\n",
    "print(ynew)"
   ]
  },
  {
   "cell_type": "code",
   "execution_count": null,
   "id": "9e814226",
   "metadata": {},
   "outputs": [],
   "source": []
  }
 ],
 "metadata": {
  "kernelspec": {
   "display_name": "Python 3 (ipykernel)",
   "language": "python",
   "name": "python3"
  },
  "language_info": {
   "codemirror_mode": {
    "name": "ipython",
    "version": 3
   },
   "file_extension": ".py",
   "mimetype": "text/x-python",
   "name": "python",
   "nbconvert_exporter": "python",
   "pygments_lexer": "ipython3",
   "version": "3.9.7"
  }
 },
 "nbformat": 4,
 "nbformat_minor": 5
}
