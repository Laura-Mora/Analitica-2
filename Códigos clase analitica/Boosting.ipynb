{
 "cells": [
  {
   "cell_type": "code",
   "execution_count": null,
   "metadata": {},
   "outputs": [],
   "source": [
    "#Librerias y paquetes\n",
    "\n",
    "import numpy as np \n",
    "import pandas as pd\n",
    "\n",
    "import matplotlib.pyplot as plt\n",
    "\n",
    "from sklearn.impute import SimpleImputer\n",
    "from sklearn.model_selection import train_test_split\n",
    "from sklearn.model_selection import GridSearchCV\n",
    "from sklearn.metrics import roc_curve, auc, roc_auc_score, classification_report, confusion_matrix, make_scorer\n",
    "\n",
    "import warnings\n",
    "warnings.filterwarnings(\"ignore\")"
   ]
  },
  {
   "cell_type": "code",
   "execution_count": null,
   "metadata": {},
   "outputs": [],
   "source": [
    "# Cargar datos\n",
    "\n",
    "df = pd.read_csv(r\"C:\\Users\\carlo\\OneDrive\\Escritorio\\Ensambles\\BASE DE DATOS.csv\", delimiter=';', decimal=',')  # Cargar el dataset\n",
    "df.info()"
   ]
  },
  {
   "cell_type": "code",
   "execution_count": null,
   "metadata": {},
   "outputs": [],
   "source": [
    "# Conversión de tipos de datos que deberían ser categóricos\n",
    "\n",
    "df['SEX'] = df['SEX'].astype('category')\n",
    "df['EST'] = df['EST'].astype('category')\n",
    "df['PRO'] = df['PRO'].astype('category')\n",
    "df['SEM'] = df['SEM'].astype('category')\n",
    "df['TRA'] = df['TRA'].astype('category')\n",
    "df['FIN'] = df['FIN'].astype('category')\n",
    "df['COL'] = df['COL'].astype('category')\n",
    "df['DES'] = df['DES'].astype('category')\n",
    "\n",
    "df.info() # Chequeemos los resultados"
   ]
  },
  {
   "cell_type": "code",
   "execution_count": null,
   "metadata": {
    "scrolled": true
   },
   "outputs": [],
   "source": [
    "# Creación de dummies para variables no numéricas (\"one hot encoding\")\n",
    "\n",
    "df = pd.get_dummies(df, columns = df.select_dtypes(exclude=['int64','float64']).columns, drop_first = True)\n",
    "\n",
    "pd.options.display.max_columns = None # remove the limit on the number of columns by default only 20 are shows\n",
    "\n",
    "df.head()  \n"
   ]
  },
  {
   "cell_type": "code",
   "execution_count": null,
   "metadata": {},
   "outputs": [],
   "source": [
    "#Escalar toda la matriz\n",
    "from sklearn.preprocessing import MinMaxScaler\n",
    "\n",
    "scaler = MinMaxScaler()\n",
    "dfs = scaler.fit_transform(df)\n",
    "\n",
    "print(dfs)\n",
    "dfs.shape"
   ]
  },
  {
   "cell_type": "code",
   "execution_count": null,
   "metadata": {},
   "outputs": [],
   "source": [
    "# Definir vector objetivo\n",
    "y = df['DES_1']\n",
    "X = df.drop(columns = 'DES_1')\n",
    "y"
   ]
  },
  {
   "cell_type": "code",
   "execution_count": null,
   "metadata": {},
   "outputs": [],
   "source": [
    "# Definimos la semilla para el generador de número aleatorios\n",
    "np.random.seed(15646)\n",
    "\n",
    "# Dividimos los datos aleatoriamente en 70% para entrenamiento y 30% para prueba \n",
    "X_train, X_test, y_train, y_test = train_test_split(X,y, test_size = 0.30, stratify=y)\n",
    "\n",
    "# Chequeemos los resultados\n",
    "print(X_train.shape)\n",
    "print(y_train.shape)\n",
    "\n",
    "print(X_test.shape)\n",
    "print(y_test.shape)\n"
   ]
  },
  {
   "cell_type": "code",
   "execution_count": null,
   "metadata": {},
   "outputs": [],
   "source": [
    "# Escalar datos\n",
    "\n",
    "from sklearn.preprocessing import MinMaxScaler\n",
    "\n",
    "scaler = MinMaxScaler()\n",
    "XCS_train = scaler.fit_transform(X_train)\n",
    "XCS_test = scaler.transform(X_test)\n",
    "\n",
    "print(XCS_train)\n",
    "print(XCS_test)\n",
    "\n",
    "print(XCS_train.shape)\n",
    "print(XCS_test.shape)\n"
   ]
  },
  {
   "cell_type": "code",
   "execution_count": null,
   "metadata": {},
   "outputs": [],
   "source": [
    "# Modelo ADABOOST1\n",
    "\n",
    "from sklearn.ensemble import AdaBoostClassifier\n",
    "\n",
    "ada_model1 = AdaBoostClassifier(n_estimators=50, learning_rate=0.1, random_state=0)\n",
    "ada_model1.fit(XCS_train, y_train)\n",
    "\n",
    "ypredtra=ada_model1.predict(XCS_train)\n",
    "\n",
    "ypredtes=ada_model1.predict(XCS_test)\n",
    "\n",
    "from sklearn.metrics import classification_report, confusion_matrix\n",
    "\n",
    "print(confusion_matrix(y_train,ypredtra))\n",
    "print(classification_report(y_train,ypredtra\n",
    "                           ))\n",
    "print(confusion_matrix(y_test,ypredtes))\n",
    "print(classification_report(y_test,ypredtes))\n",
    "\n"
   ]
  },
  {
   "cell_type": "code",
   "execution_count": null,
   "metadata": {},
   "outputs": [],
   "source": [
    "# Modelo ADABOOST2\n",
    "\n",
    "from sklearn.svm import SVC\n",
    "from sklearn.linear_model import LogisticRegression\n",
    "\n",
    "base_model= LogisticRegression()\n",
    "base_model1= SVC()\n",
    "\n",
    "ada_model1 = AdaBoostClassifier(base_estimator=base_model, n_estimators=50, learning_rate=0.1, random_state=0)\n",
    "ada_model1.fit(XCS_train, y_train)\n",
    "\n",
    "ypredtra=ada_model1.predict(XCS_train)\n",
    "\n",
    "ypredtes=ada_model1.predict(XCS_test)\n",
    "\n",
    "from sklearn.metrics import classification_report, confusion_matrix\n",
    "\n",
    "print(confusion_matrix(y_train,ypredtra))\n",
    "print(classification_report(y_train,ypredtra\n",
    "                           ))\n",
    "print(confusion_matrix(y_test,ypredtes))\n",
    "print(classification_report(y_test,ypredtes))\n"
   ]
  },
  {
   "cell_type": "code",
   "execution_count": null,
   "metadata": {},
   "outputs": [],
   "source": [
    "# Modelo Gradientboost #1\n",
    "\n",
    "from sklearn.ensemble import GradientBoostingClassifier\n",
    "\n",
    "boost_model1 = GradientBoostingClassifier(random_state=42)\n",
    "boost_model1.fit(XCS_train, y_train)\n",
    "\n",
    "ypredtra=boost_model1.predict(XCS_train)\n",
    "\n",
    "ypredtes=boost_model1.predict(XCS_test)\n",
    "\n",
    "\n",
    "from sklearn.metrics import classification_report, confusion_matrix\n",
    "\n",
    "print(confusion_matrix(y_train,ypredtra))\n",
    "print(classification_report(y_train,ypredtra\n",
    "                           ))\n",
    "print(confusion_matrix(y_test,ypredtes))\n",
    "print(classification_report(y_test,ypredtes))\n"
   ]
  },
  {
   "cell_type": "code",
   "execution_count": null,
   "metadata": {},
   "outputs": [],
   "source": [
    "# Modelo XGboost #1\n",
    "\n",
    "# Instalar por consola\n",
    "# pip install xgboost\n",
    "# conda install xgboost\n",
    "\n",
    "from xgboost import XGBClassifier\n",
    "\n",
    "xgb_model1 = XGBClassifier(n_estimators=100, learning_rate=0.1, random_state=0)\n",
    "xgb_model1.fit(XCS_train, y_train)\n",
    "\n",
    "ypredtra=xgb_model1.predict(XCS_train)\n",
    "\n",
    "ypredtes=xgb_model1.predict(XCS_test)\n",
    "\n",
    "from sklearn.metrics import classification_report, confusion_matrix\n",
    "\n",
    "print(confusion_matrix(y_train,ypredtra))\n",
    "print(classification_report(y_train,ypredtra\n",
    "                           ))\n",
    "print(confusion_matrix(y_test,ypredtes))\n",
    "print(classification_report(y_test,ypredtes))"
   ]
  },
  {
   "cell_type": "code",
   "execution_count": null,
   "metadata": {},
   "outputs": [],
   "source": [
    "# Definir un Stacking de modelos\n",
    "\n",
    "from sklearn.ensemble import StackingClassifier\n",
    "from sklearn.tree import DecisionTreeClassifier\n",
    "\n",
    "lista=[(\"lr\",LogisticRegression()),(\"tree\",DecisionTreeClassifier()),(\"svm\",SVC())]\n",
    "   \n",
    "model=StackingClassifier(estimators=lista,final_estimator=DecisionTreeClassifier())\n",
    "model.fit(XCS_train, y_train)\n",
    "\n",
    "ypredtra=model.predict(XCS_train)\n",
    "\n",
    "ypredtes=model.predict(XCS_test)\n",
    "\n",
    "from sklearn.metrics import classification_report, confusion_matrix\n",
    "\n",
    "print(confusion_matrix(y_train,ypredtra))\n",
    "print(classification_report(y_train,ypredtra))\n",
    "print(confusion_matrix(y_test,ypredtes))\n",
    "print(classification_report(y_test,ypredtes))\n",
    "    "
   ]
  },
  {
   "cell_type": "code",
   "execution_count": null,
   "metadata": {},
   "outputs": [],
   "source": []
  },
  {
   "cell_type": "code",
   "execution_count": null,
   "metadata": {},
   "outputs": [],
   "source": []
  }
 ],
 "metadata": {
  "kernelspec": {
   "display_name": "Python 3 (ipykernel)",
   "language": "python",
   "name": "python3"
  },
  "language_info": {
   "codemirror_mode": {
    "name": "ipython",
    "version": 3
   },
   "file_extension": ".py",
   "mimetype": "text/x-python",
   "name": "python",
   "nbconvert_exporter": "python",
   "pygments_lexer": "ipython3",
   "version": "3.9.7"
  }
 },
 "nbformat": 4,
 "nbformat_minor": 2
}
