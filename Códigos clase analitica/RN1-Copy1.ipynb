{
 "cells": [
  {
   "cell_type": "code",
   "execution_count": null,
   "id": "e3c4ac16",
   "metadata": {},
   "outputs": [],
   "source": [
    "# Importar librerias\n",
    "import tensorflow\n",
    "import numpy as np\n",
    "from keras.models import Sequential\n",
    "from keras.layers.core import Dense"
   ]
  },
  {
   "cell_type": "code",
   "execution_count": null,
   "id": "e75d4012",
   "metadata": {},
   "outputs": [],
   "source": [
    "# Cargar datos de entrada\n",
    "dat=np.array([[0,0 ],[0,1 ],[1,0 ],[1,1 ]],\"float32\")\n",
    "print(dat)\n"
   ]
  },
  {
   "cell_type": "code",
   "execution_count": null,
   "id": "b159e746",
   "metadata": {},
   "outputs": [],
   "source": [
    "# cargar respuestas\n",
    "\n",
    "res=np.array([[0 ],[1 ],[1 ],[0 ]],\"float32\")\n",
    "print(dat)"
   ]
  },
  {
   "cell_type": "code",
   "execution_count": null,
   "id": "c05abcf7",
   "metadata": {},
   "outputs": [],
   "source": [
    "# Creando la red\n",
    "\n",
    "model=Sequential()\n",
    "model.add(Dense(16, input_dim=2, activation=\"relu\"))\n",
    "model.add(Dense(1,activation=\"sigmoid\"))\n"
   ]
  },
  {
   "cell_type": "code",
   "execution_count": null,
   "id": "02e2f07b",
   "metadata": {},
   "outputs": [],
   "source": [
    "# Entrenado la red\n",
    "\n",
    "model.compile(loss=\"mean_squared_error\",optimizer=\"adam\",metrics=[\"binary_accuracy\"])\n",
    "model.fit(dat,res,epochs=1000)\n",
    "\n"
   ]
  },
  {
   "cell_type": "code",
   "execution_count": null,
   "id": "1df5d72b",
   "metadata": {},
   "outputs": [],
   "source": [
    "#Evaluando la red\n",
    "\n",
    "scores=model.evaluate(dat,res) \n",
    "print(\"\\n%s: % 2f%%\" % (model.metrics_names[1],scores[1]*100))\n",
    "print(model.predict(dat).round())\n"
   ]
  },
  {
   "cell_type": "code",
   "execution_count": null,
   "id": "ca47fb9b",
   "metadata": {},
   "outputs": [],
   "source": []
  }
 ],
 "metadata": {
  "kernelspec": {
   "display_name": "Python 3 (ipykernel)",
   "language": "python",
   "name": "python3"
  },
  "language_info": {
   "codemirror_mode": {
    "name": "ipython",
    "version": 3
   },
   "file_extension": ".py",
   "mimetype": "text/x-python",
   "name": "python",
   "nbconvert_exporter": "python",
   "pygments_lexer": "ipython3",
   "version": "3.9.7"
  }
 },
 "nbformat": 4,
 "nbformat_minor": 5
}
