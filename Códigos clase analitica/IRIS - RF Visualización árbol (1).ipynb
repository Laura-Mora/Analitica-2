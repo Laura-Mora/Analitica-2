{
 "cells": [
  {
   "cell_type": "code",
   "execution_count": null,
   "id": "5a4fd92c",
   "metadata": {},
   "outputs": [],
   "source": [
    "#Cargar base IRIS\n",
    "from sklearn.datasets import load_iris\n",
    "iris = load_iris()\n",
    "iris\n",
    "X, y = iris.data, iris.target\n"
   ]
  },
  {
   "cell_type": "code",
   "execution_count": null,
   "id": "eef3c3d7",
   "metadata": {},
   "outputs": [],
   "source": [
    "#costruyendo un arbol de decisión para clasificación\n",
    "\n",
    "from sklearn import tree\n",
    "tree_model= tree.DecisionTreeClassifier(criterion=\"gini\",splitter=\"best\",max_depth=3,min_samples_split=15,min_samples_leaf=5,random_state=387)                             \n",
    "tree_model = tree_model.fit(X, y)\n",
    "tree.plot_tree(tree_model)\n"
   ]
  },
  {
   "cell_type": "code",
   "execution_count": null,
   "id": "2031f566",
   "metadata": {},
   "outputs": [],
   "source": [
    "# Predecir la clase\n",
    "tree_model.predict(X)"
   ]
  },
  {
   "cell_type": "code",
   "execution_count": null,
   "id": "ab9c06da",
   "metadata": {},
   "outputs": [],
   "source": [
    "# Predicción con probabilidad\n",
    "tree_model.predict_proba(X)"
   ]
  },
  {
   "cell_type": "code",
   "execution_count": null,
   "id": "1cb6d0be",
   "metadata": {},
   "outputs": [],
   "source": [
    "# Matriz de confusión\n",
    "\n",
    "from sklearn.metrics import classification_report\n",
    "from sklearn.metrics import confusion_matrix\n",
    "\n",
    "print(\"Desempeño en entrenamiento\")\n",
    "print(confusion_matrix(y, tree_model.predict(X)))\n",
    "print(classification_report(y, tree_model.predict(X)))"
   ]
  },
  {
   "cell_type": "code",
   "execution_count": null,
   "id": "d4cd6e01",
   "metadata": {},
   "outputs": [],
   "source": [
    "# Usando RANDOM FOREST\n",
    "\n",
    "from sklearn.ensemble import RandomForestClassifier\n",
    "model = RandomForestClassifier(n_estimators=10, max_features=2,bootstrap=True, oob_score=False, max_samples=100)\n",
    "model\n",
    "model.fit(X,y)"
   ]
  },
  {
   "cell_type": "code",
   "execution_count": null,
   "id": "790ff0b6",
   "metadata": {},
   "outputs": [],
   "source": [
    "# Estimadores\n",
    "model.estimators_"
   ]
  },
  {
   "cell_type": "code",
   "execution_count": null,
   "id": "1dbbe4d2",
   "metadata": {},
   "outputs": [],
   "source": [
    "# Gráfica de árboles individuales\n",
    "tree.plot_tree(model.estimators_[0])"
   ]
  },
  {
   "cell_type": "code",
   "execution_count": null,
   "id": "c6542dc1",
   "metadata": {},
   "outputs": [],
   "source": [
    "# Predicción del ensamble 1\n",
    "model.predict(X)"
   ]
  },
  {
   "cell_type": "code",
   "execution_count": null,
   "id": "ac97e193",
   "metadata": {},
   "outputs": [],
   "source": [
    "# Predicción del ensamble 2\n",
    "model.predict_proba(X)"
   ]
  },
  {
   "cell_type": "code",
   "execution_count": null,
   "id": "3613ceca",
   "metadata": {},
   "outputs": [],
   "source": [
    "# Matriz de confusión\n",
    "\n",
    "from sklearn.metrics import classification_report\n",
    "from sklearn.metrics import confusion_matrix\n",
    "\n",
    "print(\"Desempeño en entrenamiento\")\n",
    "print(confusion_matrix(y, model.predict(X)))\n",
    "print(classification_report(y, model.predict(X)))"
   ]
  },
  {
   "cell_type": "code",
   "execution_count": null,
   "id": "c98df573",
   "metadata": {},
   "outputs": [],
   "source": []
  }
 ],
 "metadata": {
  "kernelspec": {
   "display_name": "Python 3 (ipykernel)",
   "language": "python",
   "name": "python3"
  },
  "language_info": {
   "codemirror_mode": {
    "name": "ipython",
    "version": 3
   },
   "file_extension": ".py",
   "mimetype": "text/x-python",
   "name": "python",
   "nbconvert_exporter": "python",
   "pygments_lexer": "ipython3",
   "version": "3.9.7"
  }
 },
 "nbformat": 4,
 "nbformat_minor": 5
}
