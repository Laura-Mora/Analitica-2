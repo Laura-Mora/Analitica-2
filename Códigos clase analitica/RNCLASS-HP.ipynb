{
 "cells": [
  {
   "cell_type": "code",
   "execution_count": null,
   "id": "27e9e34f",
   "metadata": {},
   "outputs": [],
   "source": [
    "#librerías y paquetes\n",
    "\n",
    "import numpy as np \n",
    "import tensorflow as tf\n",
    "import pandas as pd\n",
    "import keras_tuner as tk # instalar por cmd\n",
    "from sklearn.model_selection import train_test_split\n",
    "from keras.layers import Dense\n",
    "from keras.models import Sequential\n",
    "from keras.optimizers import SGD\n",
    "from keras.optimizers import Adam\n",
    "from keras.utils import to_categorical\n",
    "from matplotlib import pyplot\n"
   ]
  },
  {
   "cell_type": "code",
   "execution_count": null,
   "id": "a896904f",
   "metadata": {},
   "outputs": [],
   "source": [
    "# Cargar base de datos\n",
    "\n",
    "df = pd.read_csv(r\"C:\\Users\\carlo\\OneDrive\\Escritorio\\JAVERIANA\\Clasificación RN _HP\\BASE DE DATOS.csv\", delimiter=';', decimal=',')  \n",
    "df.info()\n",
    "print(df)"
   ]
  },
  {
   "cell_type": "code",
   "execution_count": null,
   "id": "28ea4586",
   "metadata": {},
   "outputs": [],
   "source": [
    "# Separar variables de entrada y objetivo\n",
    "\n",
    "y = df['CLAS']\n",
    "X = df.drop(columns = 'CLAS')\n",
    "\n",
    "print(y)\n",
    "print(X)\n"
   ]
  },
  {
   "cell_type": "code",
   "execution_count": null,
   "id": "e1d6b20a",
   "metadata": {},
   "outputs": [],
   "source": [
    "# Escalar datos de entrada\n",
    "from sklearn.preprocessing import MinMaxScaler\n",
    "\n",
    "scaler = MinMaxScaler()\n",
    "\n",
    "XS = scaler.fit_transform(X)\n",
    "\n",
    "print(XS)\n",
    "print(XS.shape)\n",
    "\n",
    "\n",
    "\n"
   ]
  },
  {
   "cell_type": "code",
   "execution_count": null,
   "id": "f5c7eef2",
   "metadata": {},
   "outputs": [],
   "source": [
    "# Categorizar las clases\n",
    "o = pd.get_dummies(y, columns = ['CLAS'])\n",
    "print(o)"
   ]
  },
  {
   "cell_type": "code",
   "execution_count": null,
   "id": "ca5fc591",
   "metadata": {},
   "outputs": [],
   "source": [
    "#Dividir en entrenamiento y prueba\n",
    "\n",
    "# Definimos la semilla para el generador de número aleatorios\n",
    "np.random.seed(7926)\n",
    "\n",
    "# Dividimos los datos aleatoriamente en 80% para entrenamiento y 20% para prueba \n",
    "X_train, X_test, y_train, y_test = train_test_split(XS,o,test_size = 0.20, stratify=o)\n",
    "\n",
    "\n",
    "# Chequeemos los resultados\n",
    "print(X_train.shape)\n",
    "print(y_train.shape)\n",
    "\n",
    "print(X_test.shape)\n",
    "print(y_test.shape)"
   ]
  },
  {
   "cell_type": "code",
   "execution_count": null,
   "id": "04e67dff",
   "metadata": {},
   "outputs": [],
   "source": [
    "# Definir el modelo\n",
    "model = Sequential()\n",
    "model.add(Dense(50, input_dim=4, activation='relu',use_bias=False, kernel_initializer='he_uniform'))\n",
    "model.add(Dense(10, activation='linear',use_bias=False, kernel_initializer='he_uniform'))\n",
    "model.add(Dense(3, activation='softmax',use_bias=False))"
   ]
  },
  {
   "cell_type": "code",
   "execution_count": null,
   "id": "cc94fd16",
   "metadata": {},
   "outputs": [],
   "source": [
    "\n",
    "opt = Adam(learning_rate=0.08)\n",
    "model.compile(loss='mean_squared_error', optimizer=opt, metrics=['accuracy'])\n",
    "model.fit(X_train,y_train,epochs=100)\n",
    "print(model.summary())"
   ]
  },
  {
   "cell_type": "code",
   "execution_count": null,
   "id": "8dec949d",
   "metadata": {},
   "outputs": [],
   "source": [
    "Xnew = [[0.38,0.02,1,1]]\n",
    "print(Xnew)\n",
    "\n",
    "ynew = model.predict(Xnew)\n",
    "print(ynew)"
   ]
  },
  {
   "cell_type": "code",
   "execution_count": null,
   "id": "4cf19c07",
   "metadata": {},
   "outputs": [],
   "source": [
    "Xnew = X_test\n",
    "ynew = model.predict(X_test)\n",
    "print(ynew)"
   ]
  },
  {
   "cell_type": "code",
   "execution_count": null,
   "id": "4c5515d7",
   "metadata": {},
   "outputs": [],
   "source": [
    "# Función para probar hiperparámetros\n",
    "\n",
    "def model_builder(hp):\n",
    "    \n",
    "  hp_activation = hp.Choice('activation', values=['relu', 'tanh','linear'])\n",
    "  hp_layer_1 = hp.Int('layer_1', min_value=1, max_value=1000, step=100)\n",
    "  hp_layer_2 = hp.Int('layer_2', min_value=1, max_value=1000, step=100)\n",
    "  hp_learning_rate = hp.Choice('learning_rate', values=[1e-2, 1e-3, 1e-4])\n",
    " \n",
    "  model = Sequential()\n",
    "  model.add(tf.keras.layers.Dense(units=hp_layer_1, activation=hp_activation))\n",
    "  model.add(tf.keras.layers.Dense(units=hp_layer_2, activation=hp_activation))\n",
    "  model.add(Dense(3, activation='softmax',use_bias=False))\n",
    "\n",
    "  model.compile(optimizer=tf.keras.optimizers.Adam(learning_rate=hp_learning_rate),loss='mean_squared_error',metrics=['accuracy'])\n",
    "  \n",
    "  return model"
   ]
  },
  {
   "cell_type": "code",
   "execution_count": null,
   "id": "bb0e27b1",
   "metadata": {},
   "outputs": [],
   "source": [
    "# Algoritmo Hyperband\n",
    "\n",
    "tuner = tk.Hyperband(model_builder,\n",
    "                     objective='val_accuracy',\n",
    "                     max_epochs=100,\n",
    "                     factor=5,directory='/notebooks/Documents/NOTEBOOKS/RNCLASS-HP6',\n",
    "                     project_name='RNCLASS-HP6')"
   ]
  },
  {
   "cell_type": "code",
   "execution_count": null,
   "id": "465e8ab2",
   "metadata": {},
   "outputs": [],
   "source": [
    "# crieterio de parada anticipada\n",
    "stop_early = tf.keras.callbacks.EarlyStopping(monitor='val_loss', patience=3)"
   ]
  },
  {
   "cell_type": "code",
   "execution_count": null,
   "id": "e0f9b7c0",
   "metadata": {},
   "outputs": [],
   "source": [
    "# Búsqueda\n",
    "tuner.search(X_train, y_train, epochs=50, validation_data=(X_test, y_test), callbacks=[stop_early],verbose=True)\n",
    "best_model = tuner.get_best_models()[0]\n"
   ]
  },
  {
   "cell_type": "code",
   "execution_count": null,
   "id": "fb83f3e2",
   "metadata": {},
   "outputs": [],
   "source": [
    "#Resúmen\n",
    "tuner.search_space_summary()\n"
   ]
  },
  {
   "cell_type": "code",
   "execution_count": null,
   "id": "f3501b9f",
   "metadata": {},
   "outputs": [],
   "source": [
    "# Resúmen mejores parámetros\n",
    "tuner.results_summary()"
   ]
  },
  {
   "cell_type": "code",
   "execution_count": null,
   "id": "9e20e17a",
   "metadata": {},
   "outputs": [],
   "source": [
    "model1 = Sequential()\n",
    "   \n",
    "model1.add(tf.keras.layers.Dense(units=, activation=\"\"))\n",
    "model1.add(tf.keras.layers.Dense(units=601, activation=\"\"))\n",
    "model1.add(Dense(3, activation='softmax',use_bias=False))\n",
    "\n",
    "model1.compile(optimizer=tf.keras.optimizers.Adam(learning_rate=),loss='mean_squared_error',metrics=['accuracy'])\n",
    "model1.fit(X_train,y_train,epochs=100)\n",
    "print(model1.summary())"
   ]
  },
  {
   "cell_type": "code",
   "execution_count": null,
   "id": "e9c7a4a0",
   "metadata": {},
   "outputs": [],
   "source": []
  },
  {
   "cell_type": "code",
   "execution_count": null,
   "id": "342ae1fd",
   "metadata": {},
   "outputs": [],
   "source": []
  }
 ],
 "metadata": {
  "kernelspec": {
   "display_name": "Python 3 (ipykernel)",
   "language": "python",
   "name": "python3"
  },
  "language_info": {
   "codemirror_mode": {
    "name": "ipython",
    "version": 3
   },
   "file_extension": ".py",
   "mimetype": "text/x-python",
   "name": "python",
   "nbconvert_exporter": "python",
   "pygments_lexer": "ipython3",
   "version": "3.9.7"
  }
 },
 "nbformat": 4,
 "nbformat_minor": 5
}
