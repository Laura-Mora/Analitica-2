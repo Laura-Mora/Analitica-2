{
 "cells": [
  {
   "cell_type": "code",
   "execution_count": null,
   "metadata": {},
   "outputs": [],
   "source": [
    "# Cargue de librerias\n",
    "\n",
    "import numpy as np\n",
    "import pandas as pd  \n",
    "from sklearn import svm     #Import svm model\n",
    "import matplotlib.pyplot as plt"
   ]
  },
  {
   "cell_type": "code",
   "execution_count": null,
   "metadata": {},
   "outputs": [],
   "source": [
    "# Lectura de datos de entrenamiento\n",
    "# Estos datos fueron generados aleatoriamente para representar datos que fueran linealmente separables\n",
    "\n",
    "dat = pd.read_csv(r'C:\\Users\\auditorio\\datos\\data1.csv')  # Cargar el dataset\n",
    "dat.head()"
   ]
  },
  {
   "cell_type": "code",
   "execution_count": null,
   "metadata": {},
   "outputs": [],
   "source": [
    "plt.scatter(dat.x1, dat.x2, c=dat.y);"
   ]
  },
  {
   "cell_type": "code",
   "execution_count": null,
   "metadata": {},
   "outputs": [],
   "source": [
    "X = dat.drop('y', axis=1)\n",
    "y = dat['y']"
   ]
  },
  {
   "cell_type": "code",
   "execution_count": null,
   "metadata": {},
   "outputs": [],
   "source": [
    "# Generación del modelo SVM\n",
    "# Para este primer modelo usaremos un kernel lineal y un costo = 10000.  Estos parámetros serán explicados más adelante.\n",
    "# Para datos linealmente separables, el parámetro de costo no incide, como lo veremos más adelante\n",
    "\n",
    "from sklearn.svm import SVC\n",
    "svclassifier = SVC(kernel='linear', C=1e5)\n",
    "svclassifier.fit(X, y)"
   ]
  },
  {
   "cell_type": "code",
   "execution_count": null,
   "metadata": {},
   "outputs": [],
   "source": [
    "# Graficamos el SVM con el hiperplano de separación, y el margen\n",
    "\n",
    "def plot_svc_decision_function(model, ax=None, plot_support=True):\n",
    "    \"\"\"Plot the decision function for a 2D SVC\"\"\"\n",
    "    if ax is None:\n",
    "        ax = plt.gca()\n",
    "    xlim = ax.get_xlim()\n",
    "    ylim = ax.get_ylim()\n",
    "    \n",
    "    # create grid to evaluate model\n",
    "    x = np.linspace(xlim[0], xlim[1], 30)\n",
    "    y = np.linspace(ylim[0], ylim[1], 30)\n",
    "    Y, X = np.meshgrid(y, x)\n",
    "    xy = np.vstack([X.ravel(), Y.ravel()]).T\n",
    "    P = model.decision_function(xy).reshape(X.shape)\n",
    "    \n",
    "    # plot decision boundary and margins\n",
    "    ax.contour(X, Y, P, colors='k',\n",
    "               levels=[-1, 0, 1], alpha=0.5,\n",
    "               linestyles=['--', '-', '--'])\n",
    "    \n",
    "    # plot support vectors\n",
    "    if plot_support:\n",
    "        ax.scatter(model.support_vectors_[:, 0],\n",
    "                   model.support_vectors_[:, 1],\n",
    "                   s=300, linewidth=1, facecolors='none');\n",
    "    ax.set_xlim(xlim)\n",
    "    ax.set_ylim(ylim)"
   ]
  },
  {
   "cell_type": "code",
   "execution_count": null,
   "metadata": {},
   "outputs": [],
   "source": [
    "plt.scatter(X.x1, X.x2, c=y, s=20, cmap=plt.cm.coolwarm)\n",
    "plot_svc_decision_function(svclassifier);"
   ]
  },
  {
   "cell_type": "code",
   "execution_count": null,
   "metadata": {},
   "outputs": [],
   "source": [
    "# Observemos los vectores de soporte para este clasificador\n",
    "\n",
    "svclassifier.support_vectors_"
   ]
  },
  {
   "cell_type": "code",
   "execution_count": null,
   "metadata": {},
   "outputs": [],
   "source": [
    "# Probemos ahora con un valor de costo mucho más pequeño\n",
    "\n",
    "svclassifier10 = SVC(kernel='linear', C=10)\n",
    "svclassifier10.fit(X, y)\n",
    "svclassifier10.support_vectors_"
   ]
  },
  {
   "cell_type": "code",
   "execution_count": null,
   "metadata": {},
   "outputs": [],
   "source": [
    "# Vemos que los vectores de soporte son los mismos.  Grafiquemos el nuevo SVM.\n",
    "\n",
    "plt.scatter(X.x1, X.x2, c=y, s=20, cmap=plt.cm.coolwarm)\n",
    "plot_svc_decision_function(svclassifier10);"
   ]
  },
  {
   "cell_type": "code",
   "execution_count": null,
   "metadata": {},
   "outputs": [],
   "source": [
    "# Datos del hiperplano de separación\n",
    "\n",
    "w = svclassifier10.coef_[0]\n",
    "a = -w[0] / w[1]\n",
    "xx = np.linspace(-5, 5)\n",
    "yy = a * xx - (svclassifier10.intercept_[0]) / w[1]\n",
    "print(w)\n",
    "print(svclassifier10.intercept_[0])"
   ]
  },
  {
   "cell_type": "code",
   "execution_count": null,
   "metadata": {},
   "outputs": [],
   "source": [
    "#  Anchura del margen\n",
    "\n",
    "import math\n",
    "def mag(x): \n",
    "    return math.sqrt(sum(i**2 for i in x))\n",
    "print(2/mag(w))"
   ]
  },
  {
   "cell_type": "code",
   "execution_count": null,
   "metadata": {},
   "outputs": [],
   "source": [
    "# Vamos ahora a probar el desempeño del modelo desarrollado.  \n",
    "# Leeremos datos de prueba, los cuales también fueron generados aleatoriamente.\n",
    "\n",
    "testdat = pd.read_csv(r'C:\\Users\\auditorio\\datos\\data2.csv')  # Cargar el dataset\n",
    "testdat.head()"
   ]
  },
  {
   "cell_type": "code",
   "execution_count": null,
   "metadata": {},
   "outputs": [],
   "source": [
    "testdat.describe()"
   ]
  },
  {
   "cell_type": "code",
   "execution_count": null,
   "metadata": {},
   "outputs": [],
   "source": [
    "plt.scatter(testdat.x1, testdat.x2, c=testdat.y);"
   ]
  },
  {
   "cell_type": "code",
   "execution_count": null,
   "metadata": {},
   "outputs": [],
   "source": [
    "Xtest = testdat.drop('y', axis=1)\n",
    "ytest = testdat['y']"
   ]
  },
  {
   "cell_type": "code",
   "execution_count": null,
   "metadata": {},
   "outputs": [],
   "source": [
    "ypred = svclassifier.predict(Xtest)"
   ]
  },
  {
   "cell_type": "code",
   "execution_count": null,
   "metadata": {},
   "outputs": [],
   "source": [
    "from sklearn.metrics import classification_report, confusion_matrix\n",
    "print(confusion_matrix(ytest,ypred))\n",
    "print(classification_report(ytest,ypred))"
   ]
  }
 ],
 "metadata": {
  "kernelspec": {
   "display_name": "Python 3 (ipykernel)",
   "language": "python",
   "name": "python3"
  },
  "language_info": {
   "codemirror_mode": {
    "name": "ipython",
    "version": 3
   },
   "file_extension": ".py",
   "mimetype": "text/x-python",
   "name": "python",
   "nbconvert_exporter": "python",
   "pygments_lexer": "ipython3",
   "version": "3.9.7"
  }
 },
 "nbformat": 4,
 "nbformat_minor": 4
}
