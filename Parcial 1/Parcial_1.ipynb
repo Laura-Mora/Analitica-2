{
  "cells": [
    {
      "cell_type": "markdown",
      "source": [
        "Laura Juliana Mora Páez"
      ],
      "metadata": {
        "id": "XLblma0ZJitb"
      }
    },
    {
      "cell_type": "markdown",
      "metadata": {
        "id": "EllndkKVr6jD"
      },
      "source": [
        "# Parcial 1 \n",
        "\n",
        "La Facultad de Ingeniería de la Universidad Iberoamericana (Universidad privada) está preocupada por los altos índices de deserción estudiantil (desertar es abandonar y no volver a la U) en sus programas de pregrado. Con el fin de diseñar estrategias para disminuir y/o evitar la deserción, es de vital importancia poder identificar con anticipación si un alumno que está matriculado en alguno de los programas de pregrado ofrecidos por la facultad será potencial desertor o no. La facultad ha recopilado información histórica sobre un buen número de estudiantes y graduados de la facultad. Los expertos de la Universidad han seleccionado varias variables que podrían afectar la deserción y se han tabulado los datos:\n",
        "\n",
        "\n",
        "SEX: 1 para femenino, 2 para masculino.\n",
        "EDAD: Edad a la que ingresó el estudiante a su primer semestre.\n",
        "EST: Estrato socioeconómico.\n",
        "PROM: Promedio académico acumulado del estudiante.\n",
        "MAT: Número de materias que ha tenido que repetir el estudiante.\n",
        "PRO: Programa académico de pregrado que cursa el estudiante.\n",
        "SEM: Semestre del año en que ingresó a la universidad. 1 para primer semestre del año, 2 para segundo semestre del año. MATP: número promedio de materias cursadas por semestre.\n",
        "TRA: 1 si el estudiante trabaja mientras estudia, 2 si el estudiante no trabaja.\n",
        "FIN: 1 si el estudiante paga su matrícula por medio de un crédito educativo directo con la universidad. 2 en cualquier otro caso.\n",
        "COL: 1 si el colegio del que egresó es público o 2 si este es privado.\n",
        "ING: La universidad aplica una prueba diagnóstica de ingreso cuyo puntaje puede ir entre 0 y 70 puntos (variable continua). DES: 0 si el estudiante desertó o 1 si el estudiante se graduó.\n",
        "\n"
      ]
    },
    {
      "cell_type": "markdown",
      "metadata": {
        "id": "hWZX-Oijr6jf"
      },
      "source": [
        "### Paso 0: Para iniciar ... "
      ]
    },
    {
      "cell_type": "markdown",
      "metadata": {
        "id": "SaZKHHBdr6ji"
      },
      "source": [
        "# Pasos 1 y 2: Instalar y cargar los paquetes y librerías necesarias"
      ]
    },
    {
      "cell_type": "code",
      "execution_count": 1,
      "metadata": {
        "id": "snXP-ORMr6jq"
      },
      "outputs": [],
      "source": [
        "# Paso 1: Chequear el ambiente Anaconda y los paquetes/librerías instalados\n",
        "# import sys\n",
        "# !conda env list\n",
        "# !conda list\n",
        "# !conda update --all\n",
        "\n",
        "# Descargar e instalar pandas, numpy, scikit-learn. Podría ser necesario hacerlos desde el prompt de Anaconda\n",
        "# !conda install pandas # pandas includes numpy \n",
        "# !conda install scikit-learn\n",
        "\n",
        "# Paso 2: Cargar los paquetes y librerías necesarios \n",
        "\n",
        "import numpy as np \n",
        "import pandas as pd\n",
        "\n",
        "import matplotlib.pyplot as plt\n",
        "\n",
        "from sklearn.impute import SimpleImputer\n",
        "from sklearn.model_selection import train_test_split\n",
        "from sklearn.model_selection import GridSearchCV\n",
        "from sklearn.metrics import roc_curve, auc, roc_auc_score, classification_report, confusion_matrix, make_scorer\n",
        "\n",
        "import warnings\n",
        "warnings.filterwarnings(\"ignore\")"
      ]
    },
    {
      "cell_type": "markdown",
      "metadata": {
        "id": "OvmDpBIFr6jy"
      },
      "source": [
        "# Paso 3: Cargar los datos"
      ]
    },
    {
      "cell_type": "code",
      "execution_count": 13,
      "metadata": {
        "colab": {
          "base_uri": "https://localhost:8080/",
          "height": 206
        },
        "id": "ntRmZLKpr6j2",
        "outputId": "69b78a96-f363-48f7-cf32-e7bdc215a08a"
      },
      "outputs": [
        {
          "output_type": "execute_result",
          "data": {
            "text/plain": [
              "   SEX  EDAD  EST  PROM  MAT                        PRO  SEM  MATP  TRA  FIN  \\\n",
              "0    2    21    2  3.07   10      INGENIERIA INDUSTRIAL    2   5.7    1    2   \n",
              "1    2    20    2  4.49    5       INGENIERIA AMBIENTAL    1   5.8    1    1   \n",
              "2    2    19    5  3.70    0      INGENIERIA INDUSTRIAL    1   4.8    2    1   \n",
              "3    1    23    2  2.11    9      INGENIERIA INDUSTRIAL    2   5.9    1    1   \n",
              "4    1    21    2  2.43    3  INGENIERIA ADMINISTRATIVA    2   6.8    2    2   \n",
              "\n",
              "   COL   ING  DES  \n",
              "0    1  37.2    0  \n",
              "1    2  12.1    0  \n",
              "2    2  41.1    1  \n",
              "3    1  26.0    0  \n",
              "4    1  30.2    0  "
            ],
            "text/html": [
              "\n",
              "  <div id=\"df-76572616-eb27-4f05-affe-465ce72cfce0\">\n",
              "    <div class=\"colab-df-container\">\n",
              "      <div>\n",
              "<style scoped>\n",
              "    .dataframe tbody tr th:only-of-type {\n",
              "        vertical-align: middle;\n",
              "    }\n",
              "\n",
              "    .dataframe tbody tr th {\n",
              "        vertical-align: top;\n",
              "    }\n",
              "\n",
              "    .dataframe thead th {\n",
              "        text-align: right;\n",
              "    }\n",
              "</style>\n",
              "<table border=\"1\" class=\"dataframe\">\n",
              "  <thead>\n",
              "    <tr style=\"text-align: right;\">\n",
              "      <th></th>\n",
              "      <th>SEX</th>\n",
              "      <th>EDAD</th>\n",
              "      <th>EST</th>\n",
              "      <th>PROM</th>\n",
              "      <th>MAT</th>\n",
              "      <th>PRO</th>\n",
              "      <th>SEM</th>\n",
              "      <th>MATP</th>\n",
              "      <th>TRA</th>\n",
              "      <th>FIN</th>\n",
              "      <th>COL</th>\n",
              "      <th>ING</th>\n",
              "      <th>DES</th>\n",
              "    </tr>\n",
              "  </thead>\n",
              "  <tbody>\n",
              "    <tr>\n",
              "      <th>0</th>\n",
              "      <td>2</td>\n",
              "      <td>21</td>\n",
              "      <td>2</td>\n",
              "      <td>3.07</td>\n",
              "      <td>10</td>\n",
              "      <td>INGENIERIA INDUSTRIAL</td>\n",
              "      <td>2</td>\n",
              "      <td>5.7</td>\n",
              "      <td>1</td>\n",
              "      <td>2</td>\n",
              "      <td>1</td>\n",
              "      <td>37.2</td>\n",
              "      <td>0</td>\n",
              "    </tr>\n",
              "    <tr>\n",
              "      <th>1</th>\n",
              "      <td>2</td>\n",
              "      <td>20</td>\n",
              "      <td>2</td>\n",
              "      <td>4.49</td>\n",
              "      <td>5</td>\n",
              "      <td>INGENIERIA AMBIENTAL</td>\n",
              "      <td>1</td>\n",
              "      <td>5.8</td>\n",
              "      <td>1</td>\n",
              "      <td>1</td>\n",
              "      <td>2</td>\n",
              "      <td>12.1</td>\n",
              "      <td>0</td>\n",
              "    </tr>\n",
              "    <tr>\n",
              "      <th>2</th>\n",
              "      <td>2</td>\n",
              "      <td>19</td>\n",
              "      <td>5</td>\n",
              "      <td>3.70</td>\n",
              "      <td>0</td>\n",
              "      <td>INGENIERIA INDUSTRIAL</td>\n",
              "      <td>1</td>\n",
              "      <td>4.8</td>\n",
              "      <td>2</td>\n",
              "      <td>1</td>\n",
              "      <td>2</td>\n",
              "      <td>41.1</td>\n",
              "      <td>1</td>\n",
              "    </tr>\n",
              "    <tr>\n",
              "      <th>3</th>\n",
              "      <td>1</td>\n",
              "      <td>23</td>\n",
              "      <td>2</td>\n",
              "      <td>2.11</td>\n",
              "      <td>9</td>\n",
              "      <td>INGENIERIA INDUSTRIAL</td>\n",
              "      <td>2</td>\n",
              "      <td>5.9</td>\n",
              "      <td>1</td>\n",
              "      <td>1</td>\n",
              "      <td>1</td>\n",
              "      <td>26.0</td>\n",
              "      <td>0</td>\n",
              "    </tr>\n",
              "    <tr>\n",
              "      <th>4</th>\n",
              "      <td>1</td>\n",
              "      <td>21</td>\n",
              "      <td>2</td>\n",
              "      <td>2.43</td>\n",
              "      <td>3</td>\n",
              "      <td>INGENIERIA ADMINISTRATIVA</td>\n",
              "      <td>2</td>\n",
              "      <td>6.8</td>\n",
              "      <td>2</td>\n",
              "      <td>2</td>\n",
              "      <td>1</td>\n",
              "      <td>30.2</td>\n",
              "      <td>0</td>\n",
              "    </tr>\n",
              "  </tbody>\n",
              "</table>\n",
              "</div>\n",
              "      <button class=\"colab-df-convert\" onclick=\"convertToInteractive('df-76572616-eb27-4f05-affe-465ce72cfce0')\"\n",
              "              title=\"Convert this dataframe to an interactive table.\"\n",
              "              style=\"display:none;\">\n",
              "        \n",
              "  <svg xmlns=\"http://www.w3.org/2000/svg\" height=\"24px\"viewBox=\"0 0 24 24\"\n",
              "       width=\"24px\">\n",
              "    <path d=\"M0 0h24v24H0V0z\" fill=\"none\"/>\n",
              "    <path d=\"M18.56 5.44l.94 2.06.94-2.06 2.06-.94-2.06-.94-.94-2.06-.94 2.06-2.06.94zm-11 1L8.5 8.5l.94-2.06 2.06-.94-2.06-.94L8.5 2.5l-.94 2.06-2.06.94zm10 10l.94 2.06.94-2.06 2.06-.94-2.06-.94-.94-2.06-.94 2.06-2.06.94z\"/><path d=\"M17.41 7.96l-1.37-1.37c-.4-.4-.92-.59-1.43-.59-.52 0-1.04.2-1.43.59L10.3 9.45l-7.72 7.72c-.78.78-.78 2.05 0 2.83L4 21.41c.39.39.9.59 1.41.59.51 0 1.02-.2 1.41-.59l7.78-7.78 2.81-2.81c.8-.78.8-2.07 0-2.86zM5.41 20L4 18.59l7.72-7.72 1.47 1.35L5.41 20z\"/>\n",
              "  </svg>\n",
              "      </button>\n",
              "      \n",
              "  <style>\n",
              "    .colab-df-container {\n",
              "      display:flex;\n",
              "      flex-wrap:wrap;\n",
              "      gap: 12px;\n",
              "    }\n",
              "\n",
              "    .colab-df-convert {\n",
              "      background-color: #E8F0FE;\n",
              "      border: none;\n",
              "      border-radius: 50%;\n",
              "      cursor: pointer;\n",
              "      display: none;\n",
              "      fill: #1967D2;\n",
              "      height: 32px;\n",
              "      padding: 0 0 0 0;\n",
              "      width: 32px;\n",
              "    }\n",
              "\n",
              "    .colab-df-convert:hover {\n",
              "      background-color: #E2EBFA;\n",
              "      box-shadow: 0px 1px 2px rgba(60, 64, 67, 0.3), 0px 1px 3px 1px rgba(60, 64, 67, 0.15);\n",
              "      fill: #174EA6;\n",
              "    }\n",
              "\n",
              "    [theme=dark] .colab-df-convert {\n",
              "      background-color: #3B4455;\n",
              "      fill: #D2E3FC;\n",
              "    }\n",
              "\n",
              "    [theme=dark] .colab-df-convert:hover {\n",
              "      background-color: #434B5C;\n",
              "      box-shadow: 0px 1px 3px 1px rgba(0, 0, 0, 0.15);\n",
              "      filter: drop-shadow(0px 1px 2px rgba(0, 0, 0, 0.3));\n",
              "      fill: #FFFFFF;\n",
              "    }\n",
              "  </style>\n",
              "\n",
              "      <script>\n",
              "        const buttonEl =\n",
              "          document.querySelector('#df-76572616-eb27-4f05-affe-465ce72cfce0 button.colab-df-convert');\n",
              "        buttonEl.style.display =\n",
              "          google.colab.kernel.accessAllowed ? 'block' : 'none';\n",
              "\n",
              "        async function convertToInteractive(key) {\n",
              "          const element = document.querySelector('#df-76572616-eb27-4f05-affe-465ce72cfce0');\n",
              "          const dataTable =\n",
              "            await google.colab.kernel.invokeFunction('convertToInteractive',\n",
              "                                                     [key], {});\n",
              "          if (!dataTable) return;\n",
              "\n",
              "          const docLinkHtml = 'Like what you see? Visit the ' +\n",
              "            '<a target=\"_blank\" href=https://colab.research.google.com/notebooks/data_table.ipynb>data table notebook</a>'\n",
              "            + ' to learn more about interactive tables.';\n",
              "          element.innerHTML = '';\n",
              "          dataTable['output_type'] = 'display_data';\n",
              "          await google.colab.output.renderOutput(dataTable, element);\n",
              "          const docLink = document.createElement('div');\n",
              "          docLink.innerHTML = docLinkHtml;\n",
              "          element.appendChild(docLink);\n",
              "        }\n",
              "      </script>\n",
              "    </div>\n",
              "  </div>\n",
              "  "
            ]
          },
          "metadata": {},
          "execution_count": 13
        }
      ],
      "source": [
        "# Paso 3: Cargar los datos desde el archivo CSV en el dataframe llamado df.\n",
        "\n",
        "df = pd.read_csv(r\"BASE DE DATOS.csv\", sep=\";\", header = 0, decimal=\",\")  \n",
        "df.head() # show the \"head\" -- first 5 rows of the data; note, these are rows 0...4"
      ]
    },
    {
      "cell_type": "markdown",
      "metadata": {
        "id": "Ts34jbKRr6j7"
      },
      "source": [
        "# Paso 4: \"Limpiar\" los datos\n",
        "\n",
        "En este caso, los datos se dejan a propósito ligeramente \"sucios\", es decir, se limpian previamente en cierta medida, pero para efectos de aprendizaje todavía quedan algunos elementos de datos \"sucios\":\n",
        "\n",
        "- Algunos campos de datos (variables, características, columnas) tienen tipos incorrectos, por ejemplo, deberían convertirse de números a categorías.\n",
        "\n",
        "- Algunas variables categóricas tienen demasiados valores (niveles), y algunos de los niveles son demasiado raros: por ejemplo, sólo hay un grupo de Bahamas -- estos datos deberían fusionarse en una categoría más poblada\n",
        "\n",
        "- Faltan algunos datos y hay que sustituirlos o imputarlos\n",
        "\n",
        "- Para concluir la limpieza de los datos, tendremos que crear, por supuesto, variables ficticias (\"one hot encodig\") para las variables categóricas "
      ]
    },
    {
      "cell_type": "code",
      "execution_count": 14,
      "metadata": {
        "scrolled": true,
        "colab": {
          "base_uri": "https://localhost:8080/"
        },
        "id": "ZM3gb948r6j_",
        "outputId": "23364594-1e54-4d77-a70d-7f25aab4c335"
      },
      "outputs": [
        {
          "output_type": "stream",
          "name": "stdout",
          "text": [
            "<class 'pandas.core.frame.DataFrame'>\n",
            "RangeIndex: 800 entries, 0 to 799\n",
            "Data columns (total 13 columns):\n",
            " #   Column  Non-Null Count  Dtype  \n",
            "---  ------  --------------  -----  \n",
            " 0   SEX     800 non-null    int64  \n",
            " 1   EDAD    800 non-null    int64  \n",
            " 2   EST     800 non-null    int64  \n",
            " 3   PROM    800 non-null    float64\n",
            " 4   MAT     800 non-null    int64  \n",
            " 5   PRO     800 non-null    object \n",
            " 6   SEM     800 non-null    int64  \n",
            " 7   MATP    800 non-null    float64\n",
            " 8   TRA     800 non-null    int64  \n",
            " 9   FIN     800 non-null    int64  \n",
            " 10  COL     800 non-null    int64  \n",
            " 11  ING     800 non-null    float64\n",
            " 12  DES     800 non-null    int64  \n",
            "dtypes: float64(3), int64(9), object(1)\n",
            "memory usage: 81.4+ KB\n"
          ]
        }
      ],
      "source": [
        "# Limpieza de datos -- parte 1: convertir tipos de datos incorrectos\n",
        "\n",
        "# Algunos de los tipos de datos que maneja Python:\n",
        "# int -- número entero (e.g., 5)\n",
        "# float -- número fraccionario (e.g., 5.25)\n",
        "# object, str -- text (string). Un texto que contiene varios valores no ordenados (e.g., M/F)\n",
        "\n",
        "df.info() # Para chequear qué tipo de datos tenemos \n",
        "\n",
        "# Otros tipos de datos en el paquete pandas:\n",
        "# category -- categoricos, igual que \"factor\" in R (e.g., red/green/blue, or M/F: una lista con varios valores no ordenados)\n",
        "# datetime -- fecha y hora (e.g., 01.01.2020)\n",
        "# bool -- binario (e.g.? yes/no, 1/0)"
      ]
    },
    {
      "cell_type": "code",
      "execution_count": 15,
      "metadata": {
        "colab": {
          "base_uri": "https://localhost:8080/"
        },
        "id": "0R1KvI5Or6kD",
        "outputId": "10e67456-6e4c-476c-f2ce-5de96f3e9e0c"
      },
      "outputs": [
        {
          "output_type": "stream",
          "name": "stdout",
          "text": [
            "<class 'pandas.core.frame.DataFrame'>\n",
            "RangeIndex: 800 entries, 0 to 799\n",
            "Data columns (total 13 columns):\n",
            " #   Column  Non-Null Count  Dtype   \n",
            "---  ------  --------------  -----   \n",
            " 0   SEX     800 non-null    category\n",
            " 1   EDAD    800 non-null    int64   \n",
            " 2   EST     800 non-null    category\n",
            " 3   PROM    800 non-null    float64 \n",
            " 4   MAT     800 non-null    int64   \n",
            " 5   PRO     800 non-null    category\n",
            " 6   SEM     800 non-null    int64   \n",
            " 7   MATP    800 non-null    float64 \n",
            " 8   TRA     800 non-null    category\n",
            " 9   FIN     800 non-null    category\n",
            " 10  COL     800 non-null    category\n",
            " 11  ING     800 non-null    float64 \n",
            " 12  DES     800 non-null    category\n",
            "dtypes: category(7), float64(3), int64(3)\n",
            "memory usage: 44.1 KB\n"
          ]
        }
      ],
      "source": [
        "# Limpieza de los datos -- parte 1: conversión de tipos de datos que deberían ser categóricos\n",
        "#DATOS CATEGORICOS\n",
        "df['SEX'] = df['SEX'].astype('category')\n",
        "df['EST'] = df['EST'].astype('category')\n",
        "df['PRO'] = df['PRO'].astype('category')\n",
        "df['TRA'] = df['TRA'].astype('category')\n",
        "df['FIN'] = df['FIN'].astype('category')\n",
        "df['COL'] = df['COL'].astype('category')\n",
        "df['DES'] = df['DES'].astype('category')\n",
        "\n",
        "df.info() # Chequeemos los resultados"
      ]
    },
    {
      "cell_type": "code",
      "execution_count": 16,
      "metadata": {
        "colab": {
          "base_uri": "https://localhost:8080/"
        },
        "id": "ZpqDwkyyr6kQ",
        "outputId": "809d98fe-e2d7-4399-c98d-fa318af524d4"
      },
      "outputs": [
        {
          "output_type": "execute_result",
          "data": {
            "text/plain": [
              "SEX     0\n",
              "EDAD    0\n",
              "EST     0\n",
              "PROM    0\n",
              "MAT     0\n",
              "PRO     0\n",
              "SEM     0\n",
              "MATP    0\n",
              "TRA     0\n",
              "FIN     0\n",
              "COL     0\n",
              "ING     0\n",
              "DES     0\n",
              "dtype: int64"
            ]
          },
          "metadata": {},
          "execution_count": 16
        }
      ],
      "source": [
        "# Limpieza de datos -- parte 3: Reemplazo/Imputación de datos faltantes\n",
        "\n",
        "pd.DataFrame(df).isna().sum() # Chequeamos si hay datos faltantes"
      ]
    },
    {
      "cell_type": "code",
      "execution_count": 17,
      "metadata": {
        "colab": {
          "base_uri": "https://localhost:8080/",
          "height": 457
        },
        "id": "k_KEOI6Vr6kT",
        "outputId": "fc770461-581b-43c9-afdb-aeaa44211ebe"
      },
      "outputs": [
        {
          "output_type": "execute_result",
          "data": {
            "text/plain": [
              "   column_name  percent_missing\n",
              "0          SEX              0.0\n",
              "1         EDAD              0.0\n",
              "2          EST              0.0\n",
              "3         PROM              0.0\n",
              "4          MAT              0.0\n",
              "5          PRO              0.0\n",
              "6          SEM              0.0\n",
              "7         MATP              0.0\n",
              "8          TRA              0.0\n",
              "9          FIN              0.0\n",
              "10         COL              0.0\n",
              "11         ING              0.0\n",
              "12         DES              0.0"
            ],
            "text/html": [
              "\n",
              "  <div id=\"df-c2099f10-6772-484d-8bab-6712ef788590\">\n",
              "    <div class=\"colab-df-container\">\n",
              "      <div>\n",
              "<style scoped>\n",
              "    .dataframe tbody tr th:only-of-type {\n",
              "        vertical-align: middle;\n",
              "    }\n",
              "\n",
              "    .dataframe tbody tr th {\n",
              "        vertical-align: top;\n",
              "    }\n",
              "\n",
              "    .dataframe thead th {\n",
              "        text-align: right;\n",
              "    }\n",
              "</style>\n",
              "<table border=\"1\" class=\"dataframe\">\n",
              "  <thead>\n",
              "    <tr style=\"text-align: right;\">\n",
              "      <th></th>\n",
              "      <th>column_name</th>\n",
              "      <th>percent_missing</th>\n",
              "    </tr>\n",
              "  </thead>\n",
              "  <tbody>\n",
              "    <tr>\n",
              "      <th>0</th>\n",
              "      <td>SEX</td>\n",
              "      <td>0.0</td>\n",
              "    </tr>\n",
              "    <tr>\n",
              "      <th>1</th>\n",
              "      <td>EDAD</td>\n",
              "      <td>0.0</td>\n",
              "    </tr>\n",
              "    <tr>\n",
              "      <th>2</th>\n",
              "      <td>EST</td>\n",
              "      <td>0.0</td>\n",
              "    </tr>\n",
              "    <tr>\n",
              "      <th>3</th>\n",
              "      <td>PROM</td>\n",
              "      <td>0.0</td>\n",
              "    </tr>\n",
              "    <tr>\n",
              "      <th>4</th>\n",
              "      <td>MAT</td>\n",
              "      <td>0.0</td>\n",
              "    </tr>\n",
              "    <tr>\n",
              "      <th>5</th>\n",
              "      <td>PRO</td>\n",
              "      <td>0.0</td>\n",
              "    </tr>\n",
              "    <tr>\n",
              "      <th>6</th>\n",
              "      <td>SEM</td>\n",
              "      <td>0.0</td>\n",
              "    </tr>\n",
              "    <tr>\n",
              "      <th>7</th>\n",
              "      <td>MATP</td>\n",
              "      <td>0.0</td>\n",
              "    </tr>\n",
              "    <tr>\n",
              "      <th>8</th>\n",
              "      <td>TRA</td>\n",
              "      <td>0.0</td>\n",
              "    </tr>\n",
              "    <tr>\n",
              "      <th>9</th>\n",
              "      <td>FIN</td>\n",
              "      <td>0.0</td>\n",
              "    </tr>\n",
              "    <tr>\n",
              "      <th>10</th>\n",
              "      <td>COL</td>\n",
              "      <td>0.0</td>\n",
              "    </tr>\n",
              "    <tr>\n",
              "      <th>11</th>\n",
              "      <td>ING</td>\n",
              "      <td>0.0</td>\n",
              "    </tr>\n",
              "    <tr>\n",
              "      <th>12</th>\n",
              "      <td>DES</td>\n",
              "      <td>0.0</td>\n",
              "    </tr>\n",
              "  </tbody>\n",
              "</table>\n",
              "</div>\n",
              "      <button class=\"colab-df-convert\" onclick=\"convertToInteractive('df-c2099f10-6772-484d-8bab-6712ef788590')\"\n",
              "              title=\"Convert this dataframe to an interactive table.\"\n",
              "              style=\"display:none;\">\n",
              "        \n",
              "  <svg xmlns=\"http://www.w3.org/2000/svg\" height=\"24px\"viewBox=\"0 0 24 24\"\n",
              "       width=\"24px\">\n",
              "    <path d=\"M0 0h24v24H0V0z\" fill=\"none\"/>\n",
              "    <path d=\"M18.56 5.44l.94 2.06.94-2.06 2.06-.94-2.06-.94-.94-2.06-.94 2.06-2.06.94zm-11 1L8.5 8.5l.94-2.06 2.06-.94-2.06-.94L8.5 2.5l-.94 2.06-2.06.94zm10 10l.94 2.06.94-2.06 2.06-.94-2.06-.94-.94-2.06-.94 2.06-2.06.94z\"/><path d=\"M17.41 7.96l-1.37-1.37c-.4-.4-.92-.59-1.43-.59-.52 0-1.04.2-1.43.59L10.3 9.45l-7.72 7.72c-.78.78-.78 2.05 0 2.83L4 21.41c.39.39.9.59 1.41.59.51 0 1.02-.2 1.41-.59l7.78-7.78 2.81-2.81c.8-.78.8-2.07 0-2.86zM5.41 20L4 18.59l7.72-7.72 1.47 1.35L5.41 20z\"/>\n",
              "  </svg>\n",
              "      </button>\n",
              "      \n",
              "  <style>\n",
              "    .colab-df-container {\n",
              "      display:flex;\n",
              "      flex-wrap:wrap;\n",
              "      gap: 12px;\n",
              "    }\n",
              "\n",
              "    .colab-df-convert {\n",
              "      background-color: #E8F0FE;\n",
              "      border: none;\n",
              "      border-radius: 50%;\n",
              "      cursor: pointer;\n",
              "      display: none;\n",
              "      fill: #1967D2;\n",
              "      height: 32px;\n",
              "      padding: 0 0 0 0;\n",
              "      width: 32px;\n",
              "    }\n",
              "\n",
              "    .colab-df-convert:hover {\n",
              "      background-color: #E2EBFA;\n",
              "      box-shadow: 0px 1px 2px rgba(60, 64, 67, 0.3), 0px 1px 3px 1px rgba(60, 64, 67, 0.15);\n",
              "      fill: #174EA6;\n",
              "    }\n",
              "\n",
              "    [theme=dark] .colab-df-convert {\n",
              "      background-color: #3B4455;\n",
              "      fill: #D2E3FC;\n",
              "    }\n",
              "\n",
              "    [theme=dark] .colab-df-convert:hover {\n",
              "      background-color: #434B5C;\n",
              "      box-shadow: 0px 1px 3px 1px rgba(0, 0, 0, 0.15);\n",
              "      filter: drop-shadow(0px 1px 2px rgba(0, 0, 0, 0.3));\n",
              "      fill: #FFFFFF;\n",
              "    }\n",
              "  </style>\n",
              "\n",
              "      <script>\n",
              "        const buttonEl =\n",
              "          document.querySelector('#df-c2099f10-6772-484d-8bab-6712ef788590 button.colab-df-convert');\n",
              "        buttonEl.style.display =\n",
              "          google.colab.kernel.accessAllowed ? 'block' : 'none';\n",
              "\n",
              "        async function convertToInteractive(key) {\n",
              "          const element = document.querySelector('#df-c2099f10-6772-484d-8bab-6712ef788590');\n",
              "          const dataTable =\n",
              "            await google.colab.kernel.invokeFunction('convertToInteractive',\n",
              "                                                     [key], {});\n",
              "          if (!dataTable) return;\n",
              "\n",
              "          const docLinkHtml = 'Like what you see? Visit the ' +\n",
              "            '<a target=\"_blank\" href=https://colab.research.google.com/notebooks/data_table.ipynb>data table notebook</a>'\n",
              "            + ' to learn more about interactive tables.';\n",
              "          element.innerHTML = '';\n",
              "          dataTable['output_type'] = 'display_data';\n",
              "          await google.colab.output.renderOutput(dataTable, element);\n",
              "          const docLink = document.createElement('div');\n",
              "          docLink.innerHTML = docLinkHtml;\n",
              "          element.appendChild(docLink);\n",
              "        }\n",
              "      </script>\n",
              "    </div>\n",
              "  </div>\n",
              "  "
            ]
          },
          "metadata": {},
          "execution_count": 17
        }
      ],
      "source": [
        "pd.set_option('display.max_rows', 500)\n",
        "# Hay datos no disponibles.  Revisemos el porcentaje de los mismos.\n",
        "nan_percentage = pd.DataFrame(df).isna().sum() / len(pd.DataFrame(df))\n",
        "missing_percentage_df = pd.DataFrame({'column_name': pd.DataFrame(df).columns, 'percent_missing': nan_percentage}).reset_index(drop=True)\n",
        "missing_percentage_df"
      ]
    },
    {
      "cell_type": "code",
      "execution_count": 18,
      "metadata": {
        "colab": {
          "base_uri": "https://localhost:8080/"
        },
        "id": "ZeEoZC_Dr6kW",
        "outputId": "680fd909-d018-4fa3-b6e0-98fecf09a7d6"
      },
      "outputs": [
        {
          "output_type": "execute_result",
          "data": {
            "text/plain": [
              "800"
            ]
          },
          "metadata": {},
          "execution_count": 18
        }
      ],
      "source": [
        "len(pd.DataFrame(df))"
      ]
    },
    {
      "cell_type": "code",
      "execution_count": 30,
      "metadata": {
        "colab": {
          "base_uri": "https://localhost:8080/"
        },
        "id": "G6QUxDinr6kn",
        "outputId": "452dd6a5-f955-48bc-8d05-61577b984528"
      },
      "outputs": [
        {
          "output_type": "stream",
          "name": "stdout",
          "text": [
            "<class 'pandas.core.frame.DataFrame'>\n",
            "RangeIndex: 800 entries, 0 to 799\n",
            "Data columns (total 18 columns):\n",
            " #   Column                     Non-Null Count  Dtype  \n",
            "---  ------                     --------------  -----  \n",
            " 0   EDAD                       800 non-null    int64  \n",
            " 1   PROM                       800 non-null    float64\n",
            " 2   MAT                        800 non-null    int64  \n",
            " 3   SEM                        800 non-null    int64  \n",
            " 4   MATP                       800 non-null    float64\n",
            " 5   ING                        800 non-null    float64\n",
            " 6   SEX_2                      800 non-null    uint8  \n",
            " 7   EST_3                      800 non-null    uint8  \n",
            " 8   EST_4                      800 non-null    uint8  \n",
            " 9   EST_5                      800 non-null    uint8  \n",
            " 10  PRO_INGENIERIA AMBIENTAL   800 non-null    uint8  \n",
            " 11  PRO_INGENIERIA CIVIL       800 non-null    uint8  \n",
            " 12  PRO_INGENIERIA INDUSTRIAL  800 non-null    uint8  \n",
            " 13  PRO_INGENIERIA MECANICA    800 non-null    uint8  \n",
            " 14  TRA_2                      800 non-null    uint8  \n",
            " 15  FIN_2                      800 non-null    uint8  \n",
            " 16  COL_2                      800 non-null    uint8  \n",
            " 17  DES_1                      800 non-null    uint8  \n",
            "dtypes: float64(3), int64(3), uint8(12)\n",
            "memory usage: 47.0 KB\n"
          ]
        }
      ],
      "source": [
        "df.shape\n"
      ]
    },
    {
      "cell_type": "code",
      "execution_count": 19,
      "metadata": {
        "colab": {
          "base_uri": "https://localhost:8080/",
          "height": 288
        },
        "id": "HAlszNGkr6lA",
        "outputId": "77911999-cd74-4452-95f0-423327f887b5"
      },
      "outputs": [
        {
          "output_type": "execute_result",
          "data": {
            "text/plain": [
              "   EDAD  PROM  MAT  SEM  MATP   ING  SEX_2  EST_3  EST_4  EST_5  \\\n",
              "0    21  3.07   10    2   5.7  37.2      1      0      0      0   \n",
              "1    20  4.49    5    1   5.8  12.1      1      0      0      0   \n",
              "2    19  3.70    0    1   4.8  41.1      1      0      0      1   \n",
              "3    23  2.11    9    2   5.9  26.0      0      0      0      0   \n",
              "4    21  2.43    3    2   6.8  30.2      0      0      0      0   \n",
              "\n",
              "   PRO_INGENIERIA AMBIENTAL  PRO_INGENIERIA CIVIL  PRO_INGENIERIA INDUSTRIAL  \\\n",
              "0                         0                     0                          1   \n",
              "1                         1                     0                          0   \n",
              "2                         0                     0                          1   \n",
              "3                         0                     0                          1   \n",
              "4                         0                     0                          0   \n",
              "\n",
              "   PRO_INGENIERIA MECANICA  TRA_2  FIN_2  COL_2  DES_1  \n",
              "0                        0      0      1      0      0  \n",
              "1                        0      0      0      1      0  \n",
              "2                        0      1      0      1      1  \n",
              "3                        0      0      0      0      0  \n",
              "4                        0      1      1      0      0  "
            ],
            "text/html": [
              "\n",
              "  <div id=\"df-f8d53204-7c5a-4ef4-aada-74cfeda7cf26\">\n",
              "    <div class=\"colab-df-container\">\n",
              "      <div>\n",
              "<style scoped>\n",
              "    .dataframe tbody tr th:only-of-type {\n",
              "        vertical-align: middle;\n",
              "    }\n",
              "\n",
              "    .dataframe tbody tr th {\n",
              "        vertical-align: top;\n",
              "    }\n",
              "\n",
              "    .dataframe thead th {\n",
              "        text-align: right;\n",
              "    }\n",
              "</style>\n",
              "<table border=\"1\" class=\"dataframe\">\n",
              "  <thead>\n",
              "    <tr style=\"text-align: right;\">\n",
              "      <th></th>\n",
              "      <th>EDAD</th>\n",
              "      <th>PROM</th>\n",
              "      <th>MAT</th>\n",
              "      <th>SEM</th>\n",
              "      <th>MATP</th>\n",
              "      <th>ING</th>\n",
              "      <th>SEX_2</th>\n",
              "      <th>EST_3</th>\n",
              "      <th>EST_4</th>\n",
              "      <th>EST_5</th>\n",
              "      <th>PRO_INGENIERIA AMBIENTAL</th>\n",
              "      <th>PRO_INGENIERIA CIVIL</th>\n",
              "      <th>PRO_INGENIERIA INDUSTRIAL</th>\n",
              "      <th>PRO_INGENIERIA MECANICA</th>\n",
              "      <th>TRA_2</th>\n",
              "      <th>FIN_2</th>\n",
              "      <th>COL_2</th>\n",
              "      <th>DES_1</th>\n",
              "    </tr>\n",
              "  </thead>\n",
              "  <tbody>\n",
              "    <tr>\n",
              "      <th>0</th>\n",
              "      <td>21</td>\n",
              "      <td>3.07</td>\n",
              "      <td>10</td>\n",
              "      <td>2</td>\n",
              "      <td>5.7</td>\n",
              "      <td>37.2</td>\n",
              "      <td>1</td>\n",
              "      <td>0</td>\n",
              "      <td>0</td>\n",
              "      <td>0</td>\n",
              "      <td>0</td>\n",
              "      <td>0</td>\n",
              "      <td>1</td>\n",
              "      <td>0</td>\n",
              "      <td>0</td>\n",
              "      <td>1</td>\n",
              "      <td>0</td>\n",
              "      <td>0</td>\n",
              "    </tr>\n",
              "    <tr>\n",
              "      <th>1</th>\n",
              "      <td>20</td>\n",
              "      <td>4.49</td>\n",
              "      <td>5</td>\n",
              "      <td>1</td>\n",
              "      <td>5.8</td>\n",
              "      <td>12.1</td>\n",
              "      <td>1</td>\n",
              "      <td>0</td>\n",
              "      <td>0</td>\n",
              "      <td>0</td>\n",
              "      <td>1</td>\n",
              "      <td>0</td>\n",
              "      <td>0</td>\n",
              "      <td>0</td>\n",
              "      <td>0</td>\n",
              "      <td>0</td>\n",
              "      <td>1</td>\n",
              "      <td>0</td>\n",
              "    </tr>\n",
              "    <tr>\n",
              "      <th>2</th>\n",
              "      <td>19</td>\n",
              "      <td>3.70</td>\n",
              "      <td>0</td>\n",
              "      <td>1</td>\n",
              "      <td>4.8</td>\n",
              "      <td>41.1</td>\n",
              "      <td>1</td>\n",
              "      <td>0</td>\n",
              "      <td>0</td>\n",
              "      <td>1</td>\n",
              "      <td>0</td>\n",
              "      <td>0</td>\n",
              "      <td>1</td>\n",
              "      <td>0</td>\n",
              "      <td>1</td>\n",
              "      <td>0</td>\n",
              "      <td>1</td>\n",
              "      <td>1</td>\n",
              "    </tr>\n",
              "    <tr>\n",
              "      <th>3</th>\n",
              "      <td>23</td>\n",
              "      <td>2.11</td>\n",
              "      <td>9</td>\n",
              "      <td>2</td>\n",
              "      <td>5.9</td>\n",
              "      <td>26.0</td>\n",
              "      <td>0</td>\n",
              "      <td>0</td>\n",
              "      <td>0</td>\n",
              "      <td>0</td>\n",
              "      <td>0</td>\n",
              "      <td>0</td>\n",
              "      <td>1</td>\n",
              "      <td>0</td>\n",
              "      <td>0</td>\n",
              "      <td>0</td>\n",
              "      <td>0</td>\n",
              "      <td>0</td>\n",
              "    </tr>\n",
              "    <tr>\n",
              "      <th>4</th>\n",
              "      <td>21</td>\n",
              "      <td>2.43</td>\n",
              "      <td>3</td>\n",
              "      <td>2</td>\n",
              "      <td>6.8</td>\n",
              "      <td>30.2</td>\n",
              "      <td>0</td>\n",
              "      <td>0</td>\n",
              "      <td>0</td>\n",
              "      <td>0</td>\n",
              "      <td>0</td>\n",
              "      <td>0</td>\n",
              "      <td>0</td>\n",
              "      <td>0</td>\n",
              "      <td>1</td>\n",
              "      <td>1</td>\n",
              "      <td>0</td>\n",
              "      <td>0</td>\n",
              "    </tr>\n",
              "  </tbody>\n",
              "</table>\n",
              "</div>\n",
              "      <button class=\"colab-df-convert\" onclick=\"convertToInteractive('df-f8d53204-7c5a-4ef4-aada-74cfeda7cf26')\"\n",
              "              title=\"Convert this dataframe to an interactive table.\"\n",
              "              style=\"display:none;\">\n",
              "        \n",
              "  <svg xmlns=\"http://www.w3.org/2000/svg\" height=\"24px\"viewBox=\"0 0 24 24\"\n",
              "       width=\"24px\">\n",
              "    <path d=\"M0 0h24v24H0V0z\" fill=\"none\"/>\n",
              "    <path d=\"M18.56 5.44l.94 2.06.94-2.06 2.06-.94-2.06-.94-.94-2.06-.94 2.06-2.06.94zm-11 1L8.5 8.5l.94-2.06 2.06-.94-2.06-.94L8.5 2.5l-.94 2.06-2.06.94zm10 10l.94 2.06.94-2.06 2.06-.94-2.06-.94-.94-2.06-.94 2.06-2.06.94z\"/><path d=\"M17.41 7.96l-1.37-1.37c-.4-.4-.92-.59-1.43-.59-.52 0-1.04.2-1.43.59L10.3 9.45l-7.72 7.72c-.78.78-.78 2.05 0 2.83L4 21.41c.39.39.9.59 1.41.59.51 0 1.02-.2 1.41-.59l7.78-7.78 2.81-2.81c.8-.78.8-2.07 0-2.86zM5.41 20L4 18.59l7.72-7.72 1.47 1.35L5.41 20z\"/>\n",
              "  </svg>\n",
              "      </button>\n",
              "      \n",
              "  <style>\n",
              "    .colab-df-container {\n",
              "      display:flex;\n",
              "      flex-wrap:wrap;\n",
              "      gap: 12px;\n",
              "    }\n",
              "\n",
              "    .colab-df-convert {\n",
              "      background-color: #E8F0FE;\n",
              "      border: none;\n",
              "      border-radius: 50%;\n",
              "      cursor: pointer;\n",
              "      display: none;\n",
              "      fill: #1967D2;\n",
              "      height: 32px;\n",
              "      padding: 0 0 0 0;\n",
              "      width: 32px;\n",
              "    }\n",
              "\n",
              "    .colab-df-convert:hover {\n",
              "      background-color: #E2EBFA;\n",
              "      box-shadow: 0px 1px 2px rgba(60, 64, 67, 0.3), 0px 1px 3px 1px rgba(60, 64, 67, 0.15);\n",
              "      fill: #174EA6;\n",
              "    }\n",
              "\n",
              "    [theme=dark] .colab-df-convert {\n",
              "      background-color: #3B4455;\n",
              "      fill: #D2E3FC;\n",
              "    }\n",
              "\n",
              "    [theme=dark] .colab-df-convert:hover {\n",
              "      background-color: #434B5C;\n",
              "      box-shadow: 0px 1px 3px 1px rgba(0, 0, 0, 0.15);\n",
              "      filter: drop-shadow(0px 1px 2px rgba(0, 0, 0, 0.3));\n",
              "      fill: #FFFFFF;\n",
              "    }\n",
              "  </style>\n",
              "\n",
              "      <script>\n",
              "        const buttonEl =\n",
              "          document.querySelector('#df-f8d53204-7c5a-4ef4-aada-74cfeda7cf26 button.colab-df-convert');\n",
              "        buttonEl.style.display =\n",
              "          google.colab.kernel.accessAllowed ? 'block' : 'none';\n",
              "\n",
              "        async function convertToInteractive(key) {\n",
              "          const element = document.querySelector('#df-f8d53204-7c5a-4ef4-aada-74cfeda7cf26');\n",
              "          const dataTable =\n",
              "            await google.colab.kernel.invokeFunction('convertToInteractive',\n",
              "                                                     [key], {});\n",
              "          if (!dataTable) return;\n",
              "\n",
              "          const docLinkHtml = 'Like what you see? Visit the ' +\n",
              "            '<a target=\"_blank\" href=https://colab.research.google.com/notebooks/data_table.ipynb>data table notebook</a>'\n",
              "            + ' to learn more about interactive tables.';\n",
              "          element.innerHTML = '';\n",
              "          dataTable['output_type'] = 'display_data';\n",
              "          await google.colab.output.renderOutput(dataTable, element);\n",
              "          const docLink = document.createElement('div');\n",
              "          docLink.innerHTML = docLinkHtml;\n",
              "          element.appendChild(docLink);\n",
              "        }\n",
              "      </script>\n",
              "    </div>\n",
              "  </div>\n",
              "  "
            ]
          },
          "metadata": {},
          "execution_count": 19
        }
      ],
      "source": [
        "# Limpieza de datos -- parte 4: creación de dummies para variables no numéricas (\"one hot encoding\")\n",
        "\n",
        "df = pd.get_dummies(df, columns = df.select_dtypes(exclude=['int64','float64']).columns, drop_first = True)\n",
        "\n",
        "pd.options.display.max_columns = None # remove the limit on the number of columns by default only 20 are shows\n",
        "\n",
        "df.head()  # nuestro dataset tiene ahora 241 columnas (!)"
      ]
    },
    {
      "cell_type": "code",
      "execution_count": 31,
      "metadata": {
        "colab": {
          "base_uri": "https://localhost:8080/"
        },
        "id": "un0lOz1er6lK",
        "outputId": "432ed291-a7f7-440c-8c38-ba36f00798b1"
      },
      "outputs": [
        {
          "output_type": "stream",
          "name": "stdout",
          "text": [
            "<class 'pandas.core.frame.DataFrame'>\n",
            "RangeIndex: 800 entries, 0 to 799\n",
            "Data columns (total 18 columns):\n",
            " #   Column                     Non-Null Count  Dtype  \n",
            "---  ------                     --------------  -----  \n",
            " 0   EDAD                       800 non-null    int64  \n",
            " 1   PROM                       800 non-null    float64\n",
            " 2   MAT                        800 non-null    int64  \n",
            " 3   SEM                        800 non-null    int64  \n",
            " 4   MATP                       800 non-null    float64\n",
            " 5   ING                        800 non-null    float64\n",
            " 6   SEX_2                      800 non-null    uint8  \n",
            " 7   EST_3                      800 non-null    uint8  \n",
            " 8   EST_4                      800 non-null    uint8  \n",
            " 9   EST_5                      800 non-null    uint8  \n",
            " 10  PRO_INGENIERIA AMBIENTAL   800 non-null    uint8  \n",
            " 11  PRO_INGENIERIA CIVIL       800 non-null    uint8  \n",
            " 12  PRO_INGENIERIA INDUSTRIAL  800 non-null    uint8  \n",
            " 13  PRO_INGENIERIA MECANICA    800 non-null    uint8  \n",
            " 14  TRA_2                      800 non-null    uint8  \n",
            " 15  FIN_2                      800 non-null    uint8  \n",
            " 16  COL_2                      800 non-null    uint8  \n",
            " 17  DES_1                      800 non-null    uint8  \n",
            "dtypes: float64(3), int64(3), uint8(12)\n",
            "memory usage: 47.0 KB\n"
          ]
        }
      ],
      "source": [
        "df.shape\n",
        "df.info()"
      ]
    },
    {
      "cell_type": "markdown",
      "metadata": {
        "id": "oyaYg1mhr6lM"
      },
      "source": [
        "# Paso 5:  Definición del vector objetivo (y) y la matriz de características (X)"
      ]
    },
    {
      "cell_type": "code",
      "execution_count": 32,
      "metadata": {
        "id": "LOllN2Iar6lN"
      },
      "outputs": [],
      "source": [
        "y = df['DES_1']\n",
        "X = df.drop(columns = 'DES_1')"
      ]
    },
    {
      "cell_type": "markdown",
      "metadata": {
        "id": "Sp6FFoxlr6lP"
      },
      "source": [
        "# Paso 6:  Dividir X, y en entrenamiento y prueba"
      ]
    },
    {
      "cell_type": "code",
      "execution_count": 33,
      "metadata": {
        "colab": {
          "base_uri": "https://localhost:8080/"
        },
        "id": "nNFQWKtPr6lQ",
        "outputId": "a36d0c12-cfc8-41a3-e588-dd797fa6317e"
      },
      "outputs": [
        {
          "output_type": "stream",
          "name": "stdout",
          "text": [
            "(560, 17)\n",
            "(560,)\n",
            "(240, 17)\n",
            "(240,)\n"
          ]
        }
      ],
      "source": [
        "# Definimos la semilla para el generador de número aleatorios\n",
        "np.random.seed(55854) #ID 00020255854\n",
        "\n",
        "# Dividimos los datos aleatoriamente en 80% para entrenamiento y 20% para prueba \n",
        "X_train, X_test, y_train, y_test = train_test_split(X,y, test_size = 0.3, stratify=y)\n",
        "# IMPORTANTE: Las muestras están estratificadas, i.e., la proporción de clientes retenidos y no-retenidos es la misma en ambos\n",
        "\n",
        "# Chequeemos los resultados\n",
        "print(X_train.shape)\n",
        "print(y_train.shape)\n",
        "\n",
        "print(X_test.shape)\n",
        "print(y_test.shape)\n",
        "\n"
      ]
    },
    {
      "cell_type": "code",
      "execution_count": 34,
      "metadata": {
        "colab": {
          "base_uri": "https://localhost:8080/",
          "height": 300
        },
        "id": "ossexHjlr6lR",
        "outputId": "2e661d1a-30cd-4945-c418-932e3e537452"
      },
      "outputs": [
        {
          "output_type": "execute_result",
          "data": {
            "text/plain": [
              "<matplotlib.axes._subplots.AxesSubplot at 0x7f1371826410>"
            ]
          },
          "metadata": {},
          "execution_count": 34
        },
        {
          "output_type": "display_data",
          "data": {
            "text/plain": [
              "<Figure size 432x288 with 1 Axes>"
            ],
            "image/png": "[encoded data removed]"
          },
          "metadata": {
            "needs_background": "light"
          }
        }
      ],
      "source": [
        "#revisar que la base este balanceada\n",
        "import seaborn as sns\n",
        "sns.countplot(x=y_test, palette=\"bright\")"
      ]
    },
    {
      "cell_type": "code",
      "source": [
        "#Escalar los datos\n",
        "from sklearn.preprocessing import MinMaxScaler\n",
        "\n",
        "scaler = MinMaxScaler()\n",
        "XCS_train = scaler.fit_transform(X_train)\n",
        "XCS_test = scaler.transform(X_test)\n",
        "\n",
        "print(XCS_train)\n",
        "print(XCS_test)"
      ],
      "metadata": {
        "colab": {
          "base_uri": "https://localhost:8080/"
        },
        "id": "H6OgbFkg0Ivh",
        "outputId": "15edd091-3ded-483b-ad9c-896763366295"
      },
      "execution_count": 35,
      "outputs": [
        {
          "output_type": "stream",
          "name": "stdout",
          "text": [
            "[[0.14285714 0.7114094  0.         ... 1.         1.         1.        ]\n",
            " [0.2        0.88255034 0.         ... 1.         1.         0.        ]\n",
            " [0.05714286 0.58724832 0.06666667 ... 1.         0.         1.        ]\n",
            " ...\n",
            " [0.2        0.45973154 0.         ... 1.         1.         1.        ]\n",
            " [0.08571429 0.05704698 1.         ... 0.         1.         0.        ]\n",
            " [0.08571429 0.75838926 0.13333333 ... 0.         0.         0.        ]]\n",
            "[[0.08571429 0.64765101 0.06666667 ... 1.         1.         1.        ]\n",
            " [0.11428571 0.80201342 0.13333333 ... 1.         1.         1.        ]\n",
            " [0.22857143 0.39261745 0.06666667 ... 1.         0.         1.        ]\n",
            " ...\n",
            " [0.02857143 0.76510067 0.6        ... 1.         0.         1.        ]\n",
            " [0.25714286 0.03691275 0.86666667 ... 0.         0.         1.        ]\n",
            " [0.08571429 0.94630872 0.06666667 ... 1.         1.         1.        ]]\n"
          ]
        }
      ]
    },
    {
      "cell_type": "markdown",
      "metadata": {
        "id": "jwZppO1ir6lR"
      },
      "source": [
        "# Pasos 7, 8, 9: Desarrollar un modelo con los datos de entrenamiento, Usarlo para predecir los valores en los datos de prueba, Calcular las métricas del modelo, y comparar modelos"
      ]
    },
    {
      "cell_type": "code",
      "execution_count": 36,
      "metadata": {
        "id": "z6kBUIw7r6lS"
      },
      "outputs": [],
      "source": [
        "# Primero, definimos un conjunto de funciones para calcular las métricas del modelo\n",
        "\n",
        "# Curva ROC\n",
        "def plot_roc(y_test, y_pred):\n",
        "    fpr, tpr, thresholds = roc_curve(y_test, y_pred, pos_label=1, drop_intermediate = False)\n",
        "    roc_auc = auc(fpr, tpr)\n",
        "    plt.figure()\n",
        "    lw = 2\n",
        "    plt.plot(fpr, tpr, color='darkorange',\n",
        "             lw=lw, label='ROC curve (AUC = %0.2f)' % roc_auc)\n",
        "    plt.plot([0, 1], [0, 1], color='navy', lw=lw, linestyle='--')\n",
        "    plt.xlim([-0.001, 1.001])\n",
        "    plt.ylim([-0.001, 1.001])\n",
        "    plt.xlabel('1-Specificity (False Negative Rate)')\n",
        "    plt.ylabel('Sensitivity (True Positive Rate)')\n",
        "    plt.title('ROC curve')\n",
        "    plt.legend(loc=\"lower right\")\n",
        "    plt.show()\n",
        "\n",
        "# Matriz de Confusión: cm[0,0], cm[0,1], cm[1,0], cm[1,1]: tn, fp, fn, tp\n",
        "\n",
        "# Sensitivity\n",
        "def custom_sensitivity_score(y_test, y_pred):\n",
        "    cm = confusion_matrix(y_test, y_pred)\n",
        "    tn, fp, fn, tp = cm[0][0], cm[0][1], cm[1][0], cm[1][1]\n",
        "    return (tp/(tp+fn))\n",
        "\n",
        "# Specificity\n",
        "def custom_specificity_score(y_test, y_pred):\n",
        "    cm = confusion_matrix(y_test, y_pred)\n",
        "    tn, fp, fn, tp = cm[0][0], cm[0][1], cm[1][0], cm[1][1]\n",
        "    return (tn/(tn+fp))\n",
        "\n",
        "# Positive Predictive Value\n",
        "def custom_ppv_score(y_test, y_pred):\n",
        "    cm = confusion_matrix(y_test, y_pred)\n",
        "    tn, fp, fn, tp = cm[0][0], cm[0][1], cm[1][0], cm[1][1]\n",
        "    return (tp/(tp+fp))\n",
        "\n",
        "# Negative Predictive Value\n",
        "def custom_npv_score(y_test, y_pred):\n",
        "    cm = confusion_matrix(y_test, y_pred)\n",
        "    tn, fp, fn, tp = cm[0][0], cm[0][1], cm[1][0], cm[1][1]\n",
        "    return (tn/(tn+fn))\n",
        "\n",
        "# Accuracy\n",
        "def custom_accuracy_score(y_test, y_pred):\n",
        "    cm = confusion_matrix(y_test, y_pred)\n",
        "    tn, fp, fn, tp = cm[0][0], cm[0][1], cm[1][0], cm[1][1]\n",
        "    return ((tn+tp)/(tn+tp+fn+fp))"
      ]
    },
    {
      "cell_type": "markdown",
      "metadata": {
        "id": "gnwtPfoZr6lS"
      },
      "source": [
        "# Modelo № 1: Support Vector Machines"
      ]
    },
    {
      "cell_type": "markdown",
      "source": [
        "## Probabilidades"
      ],
      "metadata": {
        "id": "3yttefzB2gpj"
      }
    },
    {
      "cell_type": "code",
      "execution_count": 37,
      "metadata": {
        "colab": {
          "base_uri": "https://localhost:8080/"
        },
        "id": "mQaouXOor6lT",
        "outputId": "7a47649a-64d4-422e-f27c-c40196148a93"
      },
      "outputs": [
        {
          "output_type": "execute_result",
          "data": {
            "text/plain": [
              "Pipeline(steps=[('normalize', MinMaxScaler()), ('svm', SVC(probability=True))])"
            ]
          },
          "metadata": {},
          "execution_count": 37
        }
      ],
      "source": [
        "from sklearn import svm\n",
        "from sklearn.preprocessing import MinMaxScaler\n",
        "from sklearn.pipeline import Pipeline\n",
        "\n",
        "svm_estimators = []\n",
        "svm_estimators.append(('normalize', MinMaxScaler())) # escalamos los datos\n",
        "svm_estimators.append(('svm', svm.SVC(probability=True))) # definimos SVM con probabilidades \n",
        "     \n",
        "# Definimos el modelo SVM y lo llamamos classifier_SVM\n",
        "Classifier_SVM = Pipeline(svm_estimators, verbose=False)\n",
        "\n",
        "# Entrenamos el modelo classifier_SVM sobre los datos de entrenamiento\n",
        "Classifier_SVM.fit(X_train, y_train)"
      ]
    },
    {
      "cell_type": "code",
      "execution_count": 38,
      "metadata": {
        "colab": {
          "base_uri": "https://localhost:8080/"
        },
        "id": "Fx_lLcw7r6lU",
        "outputId": "ba545e61-de5f-4bd6-d63f-d99326d55f84"
      },
      "outputs": [
        {
          "output_type": "execute_result",
          "data": {
            "text/plain": [
              "array([9.99998823e-01, 9.99993972e-01, 9.47293787e-01, 6.93045112e-05,\n",
              "       2.74640104e-06, 9.46973529e-01, 7.91511693e-01, 9.63852077e-01,\n",
              "       4.12867472e-01, 9.96249804e-01, 8.54039630e-01, 1.03296259e-04,\n",
              "       9.83305563e-01, 9.79369685e-01, 1.02910067e-03, 5.52350440e-01,\n",
              "       9.99998812e-01, 9.96454013e-01, 8.44557061e-04, 9.99999611e-01,\n",
              "       2.66223340e-06, 2.13191754e-05, 1.56464535e-06, 9.73399716e-01,\n",
              "       2.57084060e-03, 9.31052927e-01, 4.27279526e-05, 4.46348703e-01,\n",
              "       1.72451774e-06, 9.85003695e-01, 9.92517098e-01, 9.83857754e-01,\n",
              "       9.83941946e-01, 9.99995638e-01, 9.01597491e-01, 7.35932135e-01,\n",
              "       9.99988219e-01, 8.67686937e-01, 9.99996212e-01, 1.58418347e-05,\n",
              "       2.36422376e-03, 1.86758824e-05, 5.59199182e-05, 9.72030506e-01,\n",
              "       1.84836150e-04, 9.56896879e-01, 9.72135087e-01, 9.99993409e-01,\n",
              "       9.96012858e-01, 9.99998485e-01, 9.99999057e-01, 9.95032390e-01,\n",
              "       9.99982420e-01, 1.20365388e-02, 3.02159589e-06, 9.94563077e-01,\n",
              "       1.26982184e-06, 9.96122124e-01, 8.55772332e-01, 9.88405135e-01,\n",
              "       9.90645089e-01, 2.89523308e-06, 2.20876703e-04, 2.14554429e-02,\n",
              "       2.80359766e-01, 9.95698779e-01, 1.65235614e-04, 9.99985497e-01,\n",
              "       9.81609970e-01, 1.35493080e-01, 9.97284158e-01, 9.99998395e-01,\n",
              "       9.33094566e-06, 9.99990864e-01, 9.99994856e-01, 9.99999615e-01,\n",
              "       1.97009740e-04, 9.99996162e-01, 2.17212188e-05, 9.90846133e-01,\n",
              "       3.25955344e-04, 5.41851404e-01, 6.93212532e-03, 2.63213949e-03,\n",
              "       9.97412463e-01, 5.00000000e-01, 7.26914143e-01, 9.90574121e-01,\n",
              "       8.00044412e-05, 9.99999227e-01, 2.26168892e-03, 9.97336658e-01,\n",
              "       8.11846035e-02, 4.39764237e-04, 9.99993012e-01, 9.97415972e-01,\n",
              "       9.93562559e-01, 9.72628333e-01, 9.99987734e-01, 9.99999982e-01,\n",
              "       2.44432719e-03, 9.36775420e-01, 3.65368405e-03, 9.37528672e-01,\n",
              "       1.58789329e-03, 1.55944416e-05, 9.72028459e-01, 9.96047988e-01,\n",
              "       4.28698110e-03, 1.47935589e-03, 1.63495570e-04, 4.52395718e-01,\n",
              "       1.23328637e-05, 2.13472018e-04, 4.88903762e-05, 3.53220447e-01,\n",
              "       9.83084155e-01, 9.99997447e-01, 2.09739983e-04, 9.55187885e-01,\n",
              "       9.78302357e-01, 1.02959033e-02, 9.99999763e-01, 1.71950531e-01,\n",
              "       9.96576932e-01, 9.62301987e-01, 9.91519050e-01, 9.80129418e-01,\n",
              "       9.07136424e-04, 9.57837115e-01, 9.99999423e-01, 9.71126957e-01,\n",
              "       9.94454011e-01, 1.51103007e-02, 9.99999928e-01, 9.70582292e-01,\n",
              "       9.99998362e-01, 9.99997756e-01, 2.66923179e-02, 2.17761613e-04,\n",
              "       9.92270981e-01, 5.71241690e-04, 9.93626732e-01, 5.43749344e-02,\n",
              "       8.33557663e-06, 9.99994027e-01, 9.99998728e-01, 9.84439469e-01,\n",
              "       9.87661936e-01, 7.26208900e-03, 2.09718847e-03, 2.29393559e-05,\n",
              "       3.02675667e-06, 9.99999995e-01, 9.95170069e-01, 9.36817334e-01,\n",
              "       8.65887936e-01, 3.42309269e-04, 9.79756157e-01, 4.02561450e-04,\n",
              "       9.99999489e-01, 9.47801064e-01, 9.66067125e-01, 9.99987200e-01,\n",
              "       1.24725825e-02, 5.61678681e-04, 7.09988584e-04, 3.56477122e-02,\n",
              "       5.10030452e-03, 1.30661234e-02, 3.37663674e-04, 9.99999186e-01,\n",
              "       9.99999744e-01, 9.99999904e-01, 8.57924681e-01, 9.92357603e-01,\n",
              "       9.34412043e-01, 6.54460830e-02, 9.95763136e-01, 9.62609131e-01,\n",
              "       9.55656061e-01, 5.98620778e-01, 2.02198102e-06, 7.37079540e-01,\n",
              "       9.66529446e-01, 9.92913511e-01, 1.83218586e-04, 4.23787366e-04,\n",
              "       7.38195066e-03, 9.81958225e-01, 9.74646173e-01, 3.23710071e-06,\n",
              "       9.00720471e-01, 9.97255876e-01, 9.82383304e-01, 9.86542014e-01,\n",
              "       9.99992473e-01, 5.68082178e-03, 1.80910293e-05, 3.62644786e-02,\n",
              "       9.99998948e-01, 5.48958934e-03, 9.87773388e-01, 1.03749156e-01,\n",
              "       1.73582692e-05, 1.54007683e-02, 9.99997612e-01, 1.04986936e-03,\n",
              "       9.92636897e-06, 9.99992791e-01, 2.99806075e-06, 3.89535686e-02,\n",
              "       9.71453597e-03, 6.55390837e-06, 9.31594628e-01, 9.99999728e-01,\n",
              "       9.90501501e-01, 1.20098665e-04, 1.60921973e-03, 9.99999903e-01,\n",
              "       9.63434220e-01, 2.54440962e-06, 9.99999788e-01, 2.98768718e-03,\n",
              "       7.85273959e-01, 6.19872613e-01, 9.31003882e-05, 9.89609855e-01,\n",
              "       9.89522639e-01, 4.10155198e-06, 9.19895902e-01, 9.97236342e-01,\n",
              "       9.97438550e-01, 9.75954567e-01, 9.99999131e-01, 9.99998228e-01,\n",
              "       9.63619638e-06, 5.00000000e-01, 5.75227824e-05, 9.99999674e-01])"
            ]
          },
          "metadata": {},
          "execution_count": 38
        }
      ],
      "source": [
        "# Usamos el modelo desarrollado, para predecir sobre los datos de prueba \n",
        "y_pred_prob = Classifier_SVM.predict_proba(X_test)[:,1] # probabilidades\n",
        "class_threshold = 0.6073\n",
        "y_pred = np.where(y_pred_prob > class_threshold, 1, 0) # clasificación\n",
        "y_pred_prob"
      ]
    },
    {
      "cell_type": "code",
      "execution_count": 39,
      "metadata": {
        "colab": {
          "base_uri": "https://localhost:8080/",
          "height": 491
        },
        "id": "z99XbhN4r6lU",
        "outputId": "c3baed9c-e60c-4623-d631-b495f135f8e5"
      },
      "outputs": [
        {
          "output_type": "stream",
          "name": "stdout",
          "text": [
            "Métricas del modelo de Máquina de Vectores de Soporte: \n",
            "\n",
            "Matriz de Confusión: \n",
            "[[ 99   5]\n",
            " [  6 130]]\n",
            "                                   Accuracy: 0.9541666666666667\n",
            "                       SENSITIVITY (RECALL): 0.9629629629629629\n",
            "                     SPECIFICITY (FALL-OUT): 0.9428571428571428\n",
            "     POSITIVE PREDICTIVE VALUE, (PRECISION): 0.9558823529411765\n",
            "                  NEGATIVE PREDICTIVE VALUE: 0.9519230769230769\n"
          ]
        },
        {
          "output_type": "display_data",
          "data": {
            "text/plain": [
              "<Figure size 432x288 with 1 Axes>"
            ],
            "image/png": "[encoded data removed]"
          },
          "metadata": {
            "needs_background": "light"
          }
        },
        {
          "output_type": "stream",
          "name": "stdout",
          "text": [
            " AUC: 0.9888888888888888\n"
          ]
        }
      ],
      "source": [
        "# Usamos el modelo desarrollado, para predecir sobre los datos de prueba \n",
        "y_pred_prob = Classifier_SVM.predict_proba(X_test)[:,1] # probabilidades\n",
        "class_threshold = 0.6073\n",
        "y_pred = np.where(y_pred_prob > class_threshold, 1, 0) # clasificación\n",
        "\n",
        "# Revisemos las métricas del modelo\n",
        "\n",
        "print('Métricas del modelo de Máquina de Vectores de Soporte: \\n')\n",
        "\n",
        "cm = np.transpose(confusion_matrix(y_test, y_pred))\n",
        "print(\"Matriz de Confusión: \\n\" + str(cm))\n",
        "\n",
        "print(\"                                   Accuracy: \" + str(custom_accuracy_score(y_test, y_pred))) \n",
        "print(\"                       SENSITIVITY (RECALL): \" + str(custom_sensitivity_score(y_test, y_pred)))\n",
        "print(\"                     SPECIFICITY (FALL-OUT): \" + str(custom_specificity_score(y_test, y_pred)))\n",
        "print(\"     POSITIVE PREDICTIVE VALUE, (PRECISION): \" + str(custom_ppv_score(y_test, y_pred)))\n",
        "print(\"                  NEGATIVE PREDICTIVE VALUE: \" + str(custom_npv_score(y_test, y_pred)))\n",
        "\n",
        "plot_roc(y_test, y_pred_prob)\n",
        "print(\" AUC: \" + str(roc_auc_score(y_test, y_pred_prob)))"
      ]
    },
    {
      "cell_type": "code",
      "execution_count": 40,
      "metadata": {
        "colab": {
          "base_uri": "https://localhost:8080/",
          "height": 491
        },
        "id": "0cqjOnV0r6lV",
        "outputId": "98d0cb55-8a77-40f6-97d2-76511cbae671"
      },
      "outputs": [
        {
          "output_type": "stream",
          "name": "stdout",
          "text": [
            "Métricas del modelo de Máquina de Vectores de Soporte: \n",
            "\n",
            "Matriz de Confusión: \n",
            "[[ 97   4]\n",
            " [  8 131]]\n",
            "                                   Accuracy: 0.95\n",
            "                       SENSITIVITY (RECALL): 0.9703703703703703\n",
            "                     SPECIFICITY (FALL-OUT): 0.9238095238095239\n",
            "     POSITIVE PREDICTIVE VALUE, (PRECISION): 0.9424460431654677\n",
            "                  NEGATIVE PREDICTIVE VALUE: 0.9603960396039604\n"
          ]
        },
        {
          "output_type": "display_data",
          "data": {
            "text/plain": [
              "<Figure size 432x288 with 1 Axes>"
            ],
            "image/png": "[encoded data removed]"
          },
          "metadata": {
            "needs_background": "light"
          }
        },
        {
          "output_type": "stream",
          "name": "stdout",
          "text": [
            " AUC: 0.9888888888888888\n"
          ]
        }
      ],
      "source": [
        "# Usamos el modelo desarrollado, para predecir sobre los datos de prueba \n",
        "\n",
        "y_pred_prob = Classifier_SVM.predict_proba(X_test)[:,1] # probabilidades\n",
        "class_threshold = 0.5\n",
        "\n",
        "y_pred = np.where(y_pred_prob > class_threshold, 1, 0) # clasificación\n",
        "\n",
        "# Revisemos las métricas del modelo\n",
        "\n",
        "print('Métricas del modelo de Máquina de Vectores de Soporte: \\n')\n",
        "\n",
        "cm = np.transpose(confusion_matrix(y_test, y_pred))\n",
        "print(\"Matriz de Confusión: \\n\" + str(cm))\n",
        "\n",
        "print(\"                                   Accuracy: \" + str(custom_accuracy_score(y_test, y_pred))) \n",
        "print(\"                       SENSITIVITY (RECALL): \" + str(custom_sensitivity_score(y_test, y_pred)))\n",
        "print(\"                     SPECIFICITY (FALL-OUT): \" + str(custom_specificity_score(y_test, y_pred)))\n",
        "print(\"     POSITIVE PREDICTIVE VALUE, (PRECISION): \" + str(custom_ppv_score(y_test, y_pred)))\n",
        "print(\"                  NEGATIVE PREDICTIVE VALUE: \" + str(custom_npv_score(y_test, y_pred)))\n",
        "\n",
        "plot_roc(y_test, y_pred_prob)\n",
        "print(\" AUC: \" + str(roc_auc_score(y_test, y_pred_prob)))"
      ]
    },
    {
      "cell_type": "markdown",
      "metadata": {
        "id": "DUCyxAs2r6lV"
      },
      "source": [
        "## Interpretación de la curva ROC y el AUC: \n",
        "\n",
        "- Si tomamos un cliente con una probabilidad pronósticada de 99%, uno con una probabilidad de 50%, y uno con una probabilidad del 1%. Esperaríamos que el modelo nos diera una certeza de que el primer cliente será retenido, y una certeza de que el tercero no lo será, pero podríamos estar cómodos con un error grande para el segundo.\n",
        "\n",
        "- La curva ROC muestra justamente eso. Ranquea todos los clientes desde el que tiene la probabilidad más alta de retención hasta la más baja (equivale a variar el umbral desde alto hasta bajo). Comenzando en el origen, mapea todos los clientes en orden descendiente de probabilidad (desde el “mejor” hasta el “peor”). Un clasificador perfecto, con exactitud 100%, primero predeciría correctamente todos los positivos, y luego predeciría correctamente todos los negativos; es decir, la curva iría recto hasta el punto (0,1), y luego cambiaría y sería horizontal hasta el punto (1,1). Esto, por supuesto, no es posible en la práctica, y los “pasos” en la curva reflejan los errores ocasionales que el modelo comete. Un buen modelo cometería pocos errores positivos para los mejores clientes y pocos eroreres negativos para los peores.\n",
        "\n",
        "-  Es importante observar que un modelo que simplemente adivina al azar, tendrá como curva ROC una línea de 45 grados. Tal modelo tendría la misma probabilidad de hacer una predicción correcta que una incorrecta, sin importar si el cliente tiene una alta o baja probabilidad predecida.\n",
        "\n",
        "- En este caso el AUC es 86.26% el cual es un buen resultado. El AUC indica la proporción de parejas concordantes en los datos; en este caso el porcentaje de parejas concordantes es aproximadamente 86.26%. Las parejas concordantes son aquellas parejas de casos positivo y negativo en el dataset para las cuales el modelo de SVM - con ciertos parámetros (UMBRAL) - puede clasificarlos correctamente.\n",
        "\n",
        "- En el dataset de prueba, tenemos 289 positivos (clientes retenidos) y 189 negativos (clientes no retenidos); el número total de parejas (positivos y negativos) es 289 x 189 = 54621, de los cuales el 86.26 % (== 47116) tienen unos parámetros (UMBRAL) del modelo de SVM que pueden clasificarlos correctamente."
      ]
    },
    {
      "cell_type": "code",
      "execution_count": null,
      "metadata": {
        "id": "vPI74i66r6lW"
      },
      "outputs": [],
      "source": []
    },
    {
      "cell_type": "markdown",
      "source": [
        "# Creación modelo SVM Kernel lineal"
      ],
      "metadata": {
        "id": "T1PEUupq2qNW"
      }
    },
    {
      "cell_type": "code",
      "execution_count": 58,
      "metadata": {
        "colab": {
          "base_uri": "https://localhost:8080/"
        },
        "id": "HGCZuU6rr6la",
        "outputId": "4a33ce9f-20aa-44b6-8114-da1f56252fb3"
      },
      "outputs": [
        {
          "output_type": "stream",
          "name": "stdout",
          "text": [
            "Accuracy - entrenamiento:  0.9946428571428572\n",
            "Accuracy - prueba:  0.9625\n"
          ]
        }
      ],
      "source": [
        "#MODELO USANDO TODAS LAS VARIABLES\n",
        "# Desarrollamos un clasificador SVM LINEAL\n",
        "clfl = svm.SVC(kernel='linear', C=1000, probability=True, random_state=55854) # Linear Kernel\n",
        "\n",
        "# Entrenamos el modelo usando el dataset de entrenamiento\n",
        "clfl.fit(XCS_train, y_train)\n",
        "\n",
        "# Importamos el módulo scikit-learn metrics para cálculo de Accuracy\n",
        "from sklearn import metrics\n",
        "\n",
        "#Pronosticamos la respuesta para el dataset de prueba\n",
        "#En entrenamiento\n",
        "y_predl_e = clfl.predict(XCS_train)\n",
        "#En prueba\n",
        "y_predl = clfl.predict(XCS_test)\n",
        "\n",
        "#Accuracy del modelo:  Qué tan frecuentemente el clasificador es correcto?\n",
        "#En entrenamiento: \n",
        "print(\"Accuracy - entrenamiento: \",metrics.accuracy_score(y_train, y_predl_e))\n",
        "#En prueba: \n",
        "print(\"Accuracy - prueba: \",metrics.accuracy_score(y_test, y_predl))\n"
      ]
    },
    {
      "cell_type": "code",
      "execution_count": 59,
      "metadata": {
        "colab": {
          "base_uri": "https://localhost:8080/",
          "height": 706
        },
        "id": "mk_Ximgar6lb",
        "outputId": "72e989b7-caf3-41e1-d3c2-5c61a2f60912"
      },
      "outputs": [
        {
          "output_type": "stream",
          "name": "stdout",
          "text": [
            "Métricas del modelo de Máquina de Vectores de Soporte (ENTRENAMIENTO): \n",
            "\n",
            "Matriz de Confusión: \n",
            "[[243   1]\n",
            " [  2 314]]\n",
            "                                   Accuracy: 0.9946428571428572\n",
            "                       SENSITIVITY (RECALL): 0.9968253968253968\n",
            "                     SPECIFICITY (FALL-OUT): 0.9918367346938776\n",
            "     POSITIVE PREDICTIVE VALUE, (PRECISION): 0.9936708860759493\n",
            "                  NEGATIVE PREDICTIVE VALUE: 0.9959016393442623\n",
            "\n",
            " \n",
            "Métricas del modelo de Máquina de Vectores de Soporte (PRUEBA): \n",
            "\n",
            "Matriz de Confusión: \n",
            "[[102   6]\n",
            " [  3 129]]\n",
            "                                   Accuracy: 0.9625\n",
            "                       SENSITIVITY (RECALL): 0.9555555555555556\n",
            "                     SPECIFICITY (FALL-OUT): 0.9714285714285714\n",
            "     POSITIVE PREDICTIVE VALUE, (PRECISION): 0.9772727272727273\n",
            "                  NEGATIVE PREDICTIVE VALUE: 0.9444444444444444\n"
          ]
        },
        {
          "output_type": "display_data",
          "data": {
            "text/plain": [
              "<Figure size 432x288 with 1 Axes>"
            ],
            "image/png": "[encoded data removed]"
          },
          "metadata": {
            "needs_background": "light"
          }
        },
        {
          "output_type": "stream",
          "name": "stdout",
          "text": [
            " AUC: 0.9955202821869488\n"
          ]
        }
      ],
      "source": [
        "from sklearn.metrics import confusion_matrix\n",
        "\n",
        "# Revisemos las métricas del modelo en entrenamiento\n",
        "\n",
        "print('Métricas del modelo de Máquina de Vectores de Soporte (ENTRENAMIENTO): \\n')\n",
        "\n",
        "cml_e = np.transpose(confusion_matrix(y_train, y_predl_e))\n",
        "print(\"Matriz de Confusión: \\n\" + str(cml_e))\n",
        "\n",
        "print(\"                                   Accuracy: \" + str(custom_accuracy_score(y_train, y_predl_e))) \n",
        "print(\"                       SENSITIVITY (RECALL): \" + str(custom_sensitivity_score(y_train, y_predl_e)))\n",
        "print(\"                     SPECIFICITY (FALL-OUT): \" + str(custom_specificity_score(y_train, y_predl_e)))\n",
        "print(\"     POSITIVE PREDICTIVE VALUE, (PRECISION): \" + str(custom_ppv_score(y_train, y_predl_e)))\n",
        "print(\"                  NEGATIVE PREDICTIVE VALUE: \" + str(custom_npv_score(y_train, y_predl_e)))\n",
        "\n",
        "# Revisemos las métricas del modelo en prueba\n",
        "\n",
        "print('\\n \\nMétricas del modelo de Máquina de Vectores de Soporte (PRUEBA): \\n')\n",
        "\n",
        "cml = np.transpose(confusion_matrix(y_test, y_predl))\n",
        "print(\"Matriz de Confusión: \\n\" + str(cml))\n",
        "\n",
        "print(\"                                   Accuracy: \" + str(custom_accuracy_score(y_test, y_predl))) \n",
        "print(\"                       SENSITIVITY (RECALL): \" + str(custom_sensitivity_score(y_test, y_predl)))\n",
        "print(\"                     SPECIFICITY (FALL-OUT): \" + str(custom_specificity_score(y_test, y_predl)))\n",
        "print(\"     POSITIVE PREDICTIVE VALUE, (PRECISION): \" + str(custom_ppv_score(y_test, y_predl)))\n",
        "print(\"                  NEGATIVE PREDICTIVE VALUE: \" + str(custom_npv_score(y_test, y_predl)))\n",
        "\n",
        "\n",
        "y_pred_prob = clfl.predict_proba(XCS_test)[:,1] # probabilidades\n",
        "y_pred = np.where(y_pred_prob > class_threshold, 1, 0) # clasificación\n",
        "\n",
        "plot_roc(y_test, y_pred_prob)\n",
        "print(\" AUC: \" + str(roc_auc_score(y_test, y_pred_prob)))"
      ]
    },
    {
      "cell_type": "code",
      "source": [
        "# Datos del hiperplano de separación\n",
        "\n",
        "w = clfl.coef_[0]\n",
        "a = -w[0] / w[1]\n",
        "xx = np.linspace(-5, 5)\n",
        "yy = a * xx - (clfl.intercept_[0]) / w[1]"
      ],
      "metadata": {
        "id": "LTDR4L5_3fsL"
      },
      "execution_count": 60,
      "outputs": []
    },
    {
      "cell_type": "code",
      "source": [
        "w"
      ],
      "metadata": {
        "colab": {
          "base_uri": "https://localhost:8080/"
        },
        "id": "mTe_j821313q",
        "outputId": "388c72dc-342d-457a-c81f-516cbbca151d"
      },
      "execution_count": 48,
      "outputs": [
        {
          "output_type": "execute_result",
          "data": {
            "text/plain": [
              "array([ 1.17608100e+01,  5.44729444e+00, -5.92395939e+01,  4.00937210e+00,\n",
              "       -1.74227970e+01,  2.28249895e+01, -1.00033966e+00, -6.94218122e-01,\n",
              "        1.84188513e-01,  1.10764751e+00,  5.43757396e+00, -1.73485722e+00,\n",
              "        1.97219520e+00,  6.57809234e-01,  3.61349580e+00,  4.51616482e-02,\n",
              "        5.84270399e+00])"
            ]
          },
          "metadata": {},
          "execution_count": 48
        }
      ]
    },
    {
      "cell_type": "code",
      "source": [
        "clfl.intercept_[0]"
      ],
      "metadata": {
        "colab": {
          "base_uri": "https://localhost:8080/"
        },
        "id": "ckGujz0q36Y4",
        "outputId": "f06edb10-8503-404f-a648-c1bb8b273f57"
      },
      "execution_count": 50,
      "outputs": [
        {
          "output_type": "execute_result",
          "data": {
            "text/plain": [
              "-0.24481017917113496"
            ]
          },
          "metadata": {},
          "execution_count": 50
        }
      ]
    },
    {
      "cell_type": "code",
      "source": [
        "#  Anchura del margen\n",
        "\n",
        "import math\n",
        "def mag(x): \n",
        "    return math.sqrt(sum(i**2 for i in x))\n",
        "print(2/mag(w))"
      ],
      "metadata": {
        "colab": {
          "base_uri": "https://localhost:8080/"
        },
        "id": "srhOERkz7hAj",
        "outputId": "6acde333-6f7a-42a5-8b6c-353af0e74dc9"
      },
      "execution_count": 63,
      "outputs": [
        {
          "output_type": "stream",
          "name": "stdout",
          "text": [
            "0.02947312224608911\n"
          ]
        }
      ]
    },
    {
      "cell_type": "code",
      "source": [
        "#vectores de soporte\n",
        "clfl.support_vectors_"
      ],
      "metadata": {
        "colab": {
          "base_uri": "https://localhost:8080/"
        },
        "id": "Pm7sITa4AuK7",
        "outputId": "949ce724-eca5-4da6-ffff-b70d2d465a5c"
      },
      "execution_count": 68,
      "outputs": [
        {
          "output_type": "execute_result",
          "data": {
            "text/plain": [
              "array([[0.14285714, 0.74832215, 0.2       , 1.        , 0.73333333,\n",
              "        0.36445242, 1.        , 0.        , 0.        , 0.        ,\n",
              "        1.        , 0.        , 0.        , 0.        , 1.        ,\n",
              "        0.        , 0.        ],\n",
              "       [0.        , 0.94630872, 0.26666667, 0.        , 0.66666667,\n",
              "        0.6929982 , 1.        , 0.        , 1.        , 0.        ,\n",
              "        0.        , 0.        , 0.        , 1.        , 0.        ,\n",
              "        0.        , 1.        ],\n",
              "       [0.25714286, 0.36912752, 0.13333333, 0.        , 0.36666667,\n",
              "        0.19030521, 0.        , 0.        , 0.        , 0.        ,\n",
              "        0.        , 1.        , 0.        , 0.        , 0.        ,\n",
              "        1.        , 1.        ],\n",
              "       [0.17142857, 0.72483221, 0.13333333, 0.        , 0.71666667,\n",
              "        0.29084381, 0.        , 1.        , 0.        , 0.        ,\n",
              "        0.        , 1.        , 0.        , 0.        , 1.        ,\n",
              "        0.        , 1.        ],\n",
              "       [0.17142857, 0.4295302 , 0.13333333, 0.        , 0.61666667,\n",
              "        0.63554758, 1.        , 0.        , 0.        , 1.        ,\n",
              "        0.        , 0.        , 0.        , 1.        , 0.        ,\n",
              "        1.        , 0.        ],\n",
              "       [0.05714286, 0.32885906, 0.13333333, 1.        , 0.56666667,\n",
              "        0.19928187, 1.        , 0.        , 0.        , 1.        ,\n",
              "        0.        , 0.        , 0.        , 0.        , 0.        ,\n",
              "        1.        , 1.        ],\n",
              "       [0.02857143, 0.59731544, 0.2       , 1.        , 0.41666667,\n",
              "        0.61938959, 1.        , 1.        , 0.        , 0.        ,\n",
              "        0.        , 1.        , 0.        , 0.        , 0.        ,\n",
              "        1.        , 0.        ],\n",
              "       [0.05714286, 0.48322148, 0.26666667, 0.        , 0.36666667,\n",
              "        0.7037702 , 0.        , 0.        , 1.        , 0.        ,\n",
              "        0.        , 1.        , 0.        , 0.        , 1.        ,\n",
              "        0.        , 0.        ],\n",
              "       [0.        , 0.37919463, 0.13333333, 0.        , 0.81666667,\n",
              "        0.5529623 , 1.        , 0.        , 1.        , 0.        ,\n",
              "        0.        , 0.        , 0.        , 0.        , 1.        ,\n",
              "        1.        , 1.        ],\n",
              "       [0.25714286, 0.93288591, 0.13333333, 1.        , 0.5       ,\n",
              "        0.28186715, 0.        , 1.        , 0.        , 0.        ,\n",
              "        0.        , 0.        , 0.        , 0.        , 0.        ,\n",
              "        0.        , 0.        ],\n",
              "       [0.05714286, 0.44630872, 0.13333333, 1.        , 0.53333333,\n",
              "        0.64631957, 1.        , 1.        , 0.        , 0.        ,\n",
              "        0.        , 1.        , 0.        , 0.        , 0.        ,\n",
              "        0.        , 0.        ],\n",
              "       [0.05714286, 0.68456376, 0.2       , 0.        , 0.5       ,\n",
              "        0.52603232, 1.        , 0.        , 0.        , 0.        ,\n",
              "        0.        , 1.        , 0.        , 0.        , 0.        ,\n",
              "        0.        , 1.        ],\n",
              "       [0.        , 0.77516779, 0.13333333, 1.        , 0.78333333,\n",
              "        0.33931777, 1.        , 0.        , 0.        , 0.        ,\n",
              "        0.        , 0.        , 1.        , 0.        , 0.        ,\n",
              "        0.        , 1.        ],\n",
              "       [0.17142857, 0.60067114, 0.2       , 0.        , 0.76666667,\n",
              "        0.68222621, 1.        , 0.        , 0.        , 1.        ,\n",
              "        1.        , 0.        , 0.        , 0.        , 0.        ,\n",
              "        1.        , 0.        ],\n",
              "       [0.11428571, 0.59731544, 0.2       , 0.        , 0.43333333,\n",
              "        0.25314183, 1.        , 0.        , 0.        , 1.        ,\n",
              "        0.        , 0.        , 0.        , 1.        , 1.        ,\n",
              "        1.        , 1.        ],\n",
              "       [0.25714286, 0.4295302 , 0.13333333, 1.        , 0.88333333,\n",
              "        0.57989228, 0.        , 0.        , 0.        , 0.        ,\n",
              "        0.        , 1.        , 0.        , 0.        , 1.        ,\n",
              "        1.        , 0.        ],\n",
              "       [0.25714286, 0.33557047, 0.13333333, 1.        , 1.        ,\n",
              "        0.74685817, 0.        , 0.        , 0.        , 0.        ,\n",
              "        0.        , 0.        , 0.        , 1.        , 0.        ,\n",
              "        0.        , 0.        ],\n",
              "       [0.05714286, 0.5738255 , 0.13333333, 1.        , 0.85      ,\n",
              "        0.6535009 , 0.        , 1.        , 0.        , 0.        ,\n",
              "        0.        , 1.        , 0.        , 0.        , 1.        ,\n",
              "        1.        , 0.        ],\n",
              "       [0.25714286, 0.58724832, 0.13333333, 0.        , 0.61666667,\n",
              "        0.50628366, 0.        , 0.        , 1.        , 0.        ,\n",
              "        0.        , 1.        , 0.        , 0.        , 1.        ,\n",
              "        1.        , 0.        ],\n",
              "       [0.02857143, 0.75503356, 0.06666667, 1.        , 0.86666667,\n",
              "        0.32136445, 0.        , 0.        , 1.        , 0.        ,\n",
              "        0.        , 0.        , 0.        , 1.        , 1.        ,\n",
              "        1.        , 0.        ],\n",
              "       [0.05714286, 0.45302013, 0.2       , 0.        , 0.53333333,\n",
              "        0.22441652, 1.        , 0.        , 1.        , 0.        ,\n",
              "        1.        , 0.        , 0.        , 0.        , 1.        ,\n",
              "        1.        , 1.        ]])"
            ]
          },
          "metadata": {},
          "execution_count": 68
        }
      ]
    },
    {
      "cell_type": "code",
      "execution_count": 66,
      "metadata": {
        "id": "mFNSGUpir6lb"
      },
      "outputs": [],
      "source": [
        "###  Ejecución de SVM con las 3 variables más importantes (usando RFE), y evaluar desempeño"
      ]
    },
    {
      "cell_type": "code",
      "execution_count": 64,
      "metadata": {
        "colab": {
          "base_uri": "https://localhost:8080/",
          "height": 143
        },
        "id": "p4OyrBnzr6lc",
        "outputId": "688aafdf-709e-4d9d-a91a-421cb010ff05"
      },
      "outputs": [
        {
          "output_type": "execute_result",
          "data": {
            "text/plain": [
              "      0  1\n",
              "1  PROM  1\n",
              "2   MAT  1\n",
              "5   ING  1"
            ],
            "text/html": [
              "\n",
              "  <div id=\"df-5b8f0c6a-14a8-4a44-b704-983e617756c2\">\n",
              "    <div class=\"colab-df-container\">\n",
              "      <div>\n",
              "<style scoped>\n",
              "    .dataframe tbody tr th:only-of-type {\n",
              "        vertical-align: middle;\n",
              "    }\n",
              "\n",
              "    .dataframe tbody tr th {\n",
              "        vertical-align: top;\n",
              "    }\n",
              "\n",
              "    .dataframe thead th {\n",
              "        text-align: right;\n",
              "    }\n",
              "</style>\n",
              "<table border=\"1\" class=\"dataframe\">\n",
              "  <thead>\n",
              "    <tr style=\"text-align: right;\">\n",
              "      <th></th>\n",
              "      <th>0</th>\n",
              "      <th>1</th>\n",
              "    </tr>\n",
              "  </thead>\n",
              "  <tbody>\n",
              "    <tr>\n",
              "      <th>1</th>\n",
              "      <td>PROM</td>\n",
              "      <td>1</td>\n",
              "    </tr>\n",
              "    <tr>\n",
              "      <th>2</th>\n",
              "      <td>MAT</td>\n",
              "      <td>1</td>\n",
              "    </tr>\n",
              "    <tr>\n",
              "      <th>5</th>\n",
              "      <td>ING</td>\n",
              "      <td>1</td>\n",
              "    </tr>\n",
              "  </tbody>\n",
              "</table>\n",
              "</div>\n",
              "      <button class=\"colab-df-convert\" onclick=\"convertToInteractive('df-5b8f0c6a-14a8-4a44-b704-983e617756c2')\"\n",
              "              title=\"Convert this dataframe to an interactive table.\"\n",
              "              style=\"display:none;\">\n",
              "        \n",
              "  <svg xmlns=\"http://www.w3.org/2000/svg\" height=\"24px\"viewBox=\"0 0 24 24\"\n",
              "       width=\"24px\">\n",
              "    <path d=\"M0 0h24v24H0V0z\" fill=\"none\"/>\n",
              "    <path d=\"M18.56 5.44l.94 2.06.94-2.06 2.06-.94-2.06-.94-.94-2.06-.94 2.06-2.06.94zm-11 1L8.5 8.5l.94-2.06 2.06-.94-2.06-.94L8.5 2.5l-.94 2.06-2.06.94zm10 10l.94 2.06.94-2.06 2.06-.94-2.06-.94-.94-2.06-.94 2.06-2.06.94z\"/><path d=\"M17.41 7.96l-1.37-1.37c-.4-.4-.92-.59-1.43-.59-.52 0-1.04.2-1.43.59L10.3 9.45l-7.72 7.72c-.78.78-.78 2.05 0 2.83L4 21.41c.39.39.9.59 1.41.59.51 0 1.02-.2 1.41-.59l7.78-7.78 2.81-2.81c.8-.78.8-2.07 0-2.86zM5.41 20L4 18.59l7.72-7.72 1.47 1.35L5.41 20z\"/>\n",
              "  </svg>\n",
              "      </button>\n",
              "      \n",
              "  <style>\n",
              "    .colab-df-container {\n",
              "      display:flex;\n",
              "      flex-wrap:wrap;\n",
              "      gap: 12px;\n",
              "    }\n",
              "\n",
              "    .colab-df-convert {\n",
              "      background-color: #E8F0FE;\n",
              "      border: none;\n",
              "      border-radius: 50%;\n",
              "      cursor: pointer;\n",
              "      display: none;\n",
              "      fill: #1967D2;\n",
              "      height: 32px;\n",
              "      padding: 0 0 0 0;\n",
              "      width: 32px;\n",
              "    }\n",
              "\n",
              "    .colab-df-convert:hover {\n",
              "      background-color: #E2EBFA;\n",
              "      box-shadow: 0px 1px 2px rgba(60, 64, 67, 0.3), 0px 1px 3px 1px rgba(60, 64, 67, 0.15);\n",
              "      fill: #174EA6;\n",
              "    }\n",
              "\n",
              "    [theme=dark] .colab-df-convert {\n",
              "      background-color: #3B4455;\n",
              "      fill: #D2E3FC;\n",
              "    }\n",
              "\n",
              "    [theme=dark] .colab-df-convert:hover {\n",
              "      background-color: #434B5C;\n",
              "      box-shadow: 0px 1px 3px 1px rgba(0, 0, 0, 0.15);\n",
              "      filter: drop-shadow(0px 1px 2px rgba(0, 0, 0, 0.3));\n",
              "      fill: #FFFFFF;\n",
              "    }\n",
              "  </style>\n",
              "\n",
              "      <script>\n",
              "        const buttonEl =\n",
              "          document.querySelector('#df-5b8f0c6a-14a8-4a44-b704-983e617756c2 button.colab-df-convert');\n",
              "        buttonEl.style.display =\n",
              "          google.colab.kernel.accessAllowed ? 'block' : 'none';\n",
              "\n",
              "        async function convertToInteractive(key) {\n",
              "          const element = document.querySelector('#df-5b8f0c6a-14a8-4a44-b704-983e617756c2');\n",
              "          const dataTable =\n",
              "            await google.colab.kernel.invokeFunction('convertToInteractive',\n",
              "                                                     [key], {});\n",
              "          if (!dataTable) return;\n",
              "\n",
              "          const docLinkHtml = 'Like what you see? Visit the ' +\n",
              "            '<a target=\"_blank\" href=https://colab.research.google.com/notebooks/data_table.ipynb>data table notebook</a>'\n",
              "            + ' to learn more about interactive tables.';\n",
              "          element.innerHTML = '';\n",
              "          dataTable['output_type'] = 'display_data';\n",
              "          await google.colab.output.renderOutput(dataTable, element);\n",
              "          const docLink = document.createElement('div');\n",
              "          docLink.innerHTML = docLinkHtml;\n",
              "          element.appendChild(docLink);\n",
              "        }\n",
              "      </script>\n",
              "    </div>\n",
              "  </div>\n",
              "  "
            ]
          },
          "metadata": {},
          "execution_count": 64
        }
      ],
      "source": [
        "### REFERENCIAS SOBRE RFE (Recursive Feature Elimination)\n",
        "### https://towardsdatascience.com/feature-selection-in-python-recursive-feature-elimination-19f1c39b8d15\n",
        "### https://www.kite.com/python/docs/sklearn.feature_selection.RFE\n",
        "\n",
        "from sklearn.svm import LinearSVC\n",
        "from sklearn.feature_selection import RFE\n",
        "\n",
        "# create the RFE model for the svm classifier and select attributes\n",
        "rfeSVM = RFE(estimator=clfl, n_features_to_select=3, step=1) \n",
        "rfeSVM.fit(XCS_train, y_train)\n",
        "\n",
        "ranking = rfeSVM.ranking_.reshape(len(X_train.columns))\n",
        "\n",
        "# Cuáles son las 20 variables que quedan en el modelo?\n",
        "pd.DataFrame([X_test.columns,ranking]).transpose().sort_values(1).head(3)"
      ]
    },
    {
      "cell_type": "markdown",
      "source": [
        "Tras realizar el proceso de RFE se observa que las tres variables más influyentes a la hora de determinar si un estudiante deserta o no, son el promedio (PROM), la cantidad de materias que ha tenido que repetir el estudiante (MAT) y el puntaje obtenido en la prueba diagnostia utilizada por la universidad (ING)"
      ],
      "metadata": {
        "id": "QEINEnYz8OzY"
      }
    },
    {
      "cell_type": "code",
      "execution_count": 65,
      "metadata": {
        "colab": {
          "base_uri": "https://localhost:8080/",
          "height": 491
        },
        "id": "s0AMdyUKr6lj",
        "outputId": "f47199d3-2d3a-443c-a168-8ccd0b045476"
      },
      "outputs": [
        {
          "output_type": "stream",
          "name": "stdout",
          "text": [
            "Métricas del modelo de SVM después de la selección de variables: \n",
            "\n",
            "Matriz de confusión: \n",
            "[[ 98   6]\n",
            " [  7 129]]\n",
            "                                   Accuracy: 0.9458333333333333\n",
            "                       SENSITIVITY (RECALL): 0.9555555555555556\n",
            "                     SPECIFICITY (FALL-OUT): 0.9333333333333333\n",
            "     POSITIVE PREDICTIVE VALUE, (PRECISION): 0.9485294117647058\n",
            "                  NEGATIVE PREDICTIVE VALUE: 0.9423076923076923\n"
          ]
        },
        {
          "output_type": "display_data",
          "data": {
            "text/plain": [
              "<Figure size 432x288 with 1 Axes>"
            ],
            "image/png": "[encoded data removed]"
          },
          "metadata": {
            "needs_background": "light"
          }
        },
        {
          "output_type": "stream",
          "name": "stdout",
          "text": [
            " AUC: 0.9948500881834214\n"
          ]
        }
      ],
      "source": [
        "# Entrenemos el nuevo modelo y llamemoslo classifier_SVML_RFE \n",
        "classifier_SVML_RFE = rfeSVM.fit(XCS_train, y_train)\n",
        "\n",
        "# Usemos el modelo entrenado para predecir sobre los datos de prueba\n",
        "y_pred_prob = classifier_SVML_RFE.predict_proba(XCS_test)[:,1] # probabilidades\n",
        "y_pred = np.where(y_pred_prob > class_threshold, 1, 0) # clasificación\n",
        "\n",
        "# Revisemos las métricas del modelo después de la selección de variables \n",
        "print('Métricas del modelo de SVM después de la selección de variables: \\n')\n",
        "\n",
        "cm = np.transpose(confusion_matrix(y_test, y_pred))\n",
        "print(\"Matriz de confusión: \\n\" + str(cm))\n",
        "\n",
        "print(\"                                   Accuracy: \" + str(custom_accuracy_score(y_test, y_pred))) \n",
        "print(\"                       SENSITIVITY (RECALL): \" + str(custom_sensitivity_score(y_test, y_pred)))\n",
        "print(\"                     SPECIFICITY (FALL-OUT): \" + str(custom_specificity_score(y_test, y_pred)))\n",
        "print(\"     POSITIVE PREDICTIVE VALUE, (PRECISION): \" + str(custom_ppv_score(y_test, y_pred)))\n",
        "print(\"                  NEGATIVE PREDICTIVE VALUE: \" + str(custom_npv_score(y_test, y_pred)))\n",
        "\n",
        "plot_roc(y_test, y_pred_prob)\n",
        "print(\" AUC: \" + str(roc_auc_score(y_test, y_pred_prob)))"
      ]
    },
    {
      "cell_type": "markdown",
      "source": [
        "Interprete en contexto dos de las métricas de la matriz\n",
        "Como primer aspecto al observar la matriz se destaca que no tiende a cometer tantos errores, es decir la tasa de falsos positivos y de falsos negativos es pequeña a comparación de la tasa de verdaderos positivos y verdaderos negativos. \n",
        "\n",
        "Observamos que tiene un Accuracy de 0.94583 indicandonos que es un modelo con una exactitud de casi el 95%, es decir que en sus predicciones se equivoca solo en un 5%, esto tambien se puede ver con la sensibilidad y la especificidad que tiene, ambas por encima del 90%.\n",
        "\n",
        "Finalmente se observa que la curva ROC es casi un cuadrado, mostrando que tiene que sacrificar muy pocos datos para dar con un resultado positivo, otra forma de verlo es con el AUC de 99%"
      ],
      "metadata": {
        "id": "CGr88y0x-xts"
      }
    },
    {
      "cell_type": "markdown",
      "source": [
        "f) (1 punto) Se tiene una observación nueva de un estudiante:![Parcial.png](data:image/png;base64,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)\n",
        " Clasifique a este estudiante a partir de su modelo ajustado, sin ayuda de Python. Trabaje con los máximos y mínimos de cada variable dentro de la base de datos original (aunque no necesariamente sean los mismos máximos y mínimos de los datos de entrenamiento del modelo). Es posible que deba recordar la formula con la cual se escalan datos entre 0 y 1. Muestre el procedimiento realizado.\n",
        "\n",
        " "
      ],
      "metadata": {
        "id": "VEQdVxVhBsHv"
      }
    },
    {
      "cell_type": "markdown",
      "source": [
        "PROM : 3,21\n",
        "MAT: 4\n",
        "ING: 35,8\n",
        "El estudiante ha tenido que repetir varias materias, obtuvo un puntaje en la prueba de diagnostico medio, es decir casi que saco la mitad de los puntos, y tiene un puntaje cercano a 3, es probable que se retire\n",
        "\n",
        "Para obtener este resultado se utliza la función de los betas, donde los betas vienen a ser determinados por la función obtenida por el hiper parametro anteriormente y los valores que toma X son los valores que toman los diferentes atributos de la observación.  "
      ],
      "metadata": {
        "id": "03z2RCcdFAVL"
      }
    },
    {
      "cell_type": "markdown",
      "source": [
        "7. (0.6 puntos) Para la Facultad es muy importante identificar correctamente a la mayor cantidad de estudiantes que SERÁN REALMENTE DESERTORES, para poder diseñar las estrategias que sean necesarias. Ajuste un nuevo modelo e indique claramente todos los parámetros que utilizó (diferentes a los que están por defecto) que mejore esta medida de desempeño con respecto al modelo del punto 6. para random_state use los 5 últimos dígitos de su ID."
      ],
      "metadata": {
        "id": "PcSRZVAuC5r2"
      }
    },
    {
      "cell_type": "markdown",
      "source": [
        "Se acomoda el modelo para que sea radial, manteniendo el costo de 1000, debido a que el perder un estudiante es costoso para la universidad y se agrega un gamma de 0.07, brindandole un rango de acción al modelo un poco más pequeño que el que trae por defecto (gamma=0.05) "
      ],
      "metadata": {
        "id": "eWhXgQbkDBPW"
      }
    },
    {
      "cell_type": "code",
      "source": [
        "#MODELO 2\n",
        "#MODELO USANDO TODAS LAS VARIABLES\n",
        "# Desarrollamos un clasificador SVM LINEAL\n",
        "clflR = svm.SVC(kernel='rbf', C=1000, probability=True, random_state=55854, gamma=0.07) # Linear Kernel\n",
        "\n",
        "# Entrenamos el modelo usando el dataset de entrenamiento\n",
        "clflR.fit(XCS_train, y_train)\n",
        "\n",
        "# Importamos el módulo scikit-learn metrics para cálculo de Accuracy\n",
        "from sklearn import metrics\n",
        "\n",
        "#Pronosticamos la respuesta para el dataset de prueba\n",
        "#En entrenamiento\n",
        "y_predl_e = clflR.predict(XCS_train)\n",
        "#En prueba\n",
        "y_predl = clflR.predict(XCS_test)\n",
        "\n",
        "#Accuracy del modelo:  Qué tan frecuentemente el clasificador es correcto?\n",
        "#En entrenamiento: \n",
        "print(\"Accuracy - entrenamiento: \",metrics.accuracy_score(y_train, y_predl_e))\n",
        "#En prueba: \n",
        "print(\"Accuracy - prueba: \",metrics.accuracy_score(y_test, y_predl))\n"
      ],
      "metadata": {
        "colab": {
          "base_uri": "https://localhost:8080/"
        },
        "id": "0PjDLc2sBuxu",
        "outputId": "fca00f63-1b83-4278-8011-5a2ecc78bbfe"
      },
      "execution_count": 75,
      "outputs": [
        {
          "output_type": "stream",
          "name": "stdout",
          "text": [
            "Accuracy - entrenamiento:  1.0\n",
            "Accuracy - prueba:  0.9541666666666667\n"
          ]
        }
      ]
    },
    {
      "cell_type": "markdown",
      "source": [
        "A continuación se muestran las metricas obtenidas para dicho modelo, para el caso de train se observa un funcionamiento perfecto y para el de test se obtiene un Accuracy 0.9541666, superior al presentado por el primer modelo "
      ],
      "metadata": {
        "id": "mJgVdkXdEG4u"
      }
    },
    {
      "cell_type": "code",
      "source": [
        "from sklearn.metrics import confusion_matrix\n",
        "\n",
        "# Revisemos las métricas del modelo en entrenamiento\n",
        "\n",
        "print('Métricas del modelo de Máquina de Vectores de Soporte (ENTRENAMIENTO): \\n')\n",
        "\n",
        "clflR = np.transpose(confusion_matrix(y_train, y_predl_e))\n",
        "print(\"Matriz de Confusión: \\n\" + str(clflR))\n",
        "\n",
        "print(\"                                   Accuracy: \" + str(custom_accuracy_score(y_train, y_predl_e))) \n",
        "print(\"                       SENSITIVITY (RECALL): \" + str(custom_sensitivity_score(y_train, y_predl_e)))\n",
        "print(\"                     SPECIFICITY (FALL-OUT): \" + str(custom_specificity_score(y_train, y_predl_e)))\n",
        "print(\"     POSITIVE PREDICTIVE VALUE, (PRECISION): \" + str(custom_ppv_score(y_train, y_predl_e)))\n",
        "print(\"                  NEGATIVE PREDICTIVE VALUE: \" + str(custom_npv_score(y_train, y_predl_e)))\n",
        "\n",
        "# Revisemos las métricas del modelo en prueba\n",
        "\n",
        "print('\\n \\nMétricas del modelo de Máquina de Vectores de Soporte (PRUEBA): \\n')\n",
        "\n",
        "cml = np.transpose(confusion_matrix(y_test, y_predl))\n",
        "print(\"Matriz de Confusión: \\n\" + str(cml))\n",
        "\n",
        "print(\"                                   Accuracy: \" + str(custom_accuracy_score(y_test, y_predl))) \n",
        "print(\"                       SENSITIVITY (RECALL): \" + str(custom_sensitivity_score(y_test, y_predl)))\n",
        "print(\"                     SPECIFICITY (FALL-OUT): \" + str(custom_specificity_score(y_test, y_predl)))\n",
        "print(\"     POSITIVE PREDICTIVE VALUE, (PRECISION): \" + str(custom_ppv_score(y_test, y_predl)))\n",
        "print(\"                  NEGATIVE PREDICTIVE VALUE: \" + str(custom_npv_score(y_test, y_predl)))\n",
        "\n",
        "\n",
        "y_pred_prob = clfl.predict_proba(XCS_test)[:,1] # probabilidades\n",
        "y_pred = np.where(y_pred_prob > class_threshold, 1, 0) # clasificación\n",
        "\n",
        "plot_roc(y_test, y_pred_prob)\n",
        "print(\" AUC: \" + str(roc_auc_score(y_test, y_pred_prob)))"
      ],
      "metadata": {
        "colab": {
          "base_uri": "https://localhost:8080/",
          "height": 706
        },
        "id": "SPr4iAiHDznS",
        "outputId": "34ee451d-bbbe-4372-bcdf-f0dc073c3c1d"
      },
      "execution_count": 76,
      "outputs": [
        {
          "output_type": "stream",
          "name": "stdout",
          "text": [
            "Métricas del modelo de Máquina de Vectores de Soporte (ENTRENAMIENTO): \n",
            "\n",
            "Matriz de Confusión: \n",
            "[[245   0]\n",
            " [  0 315]]\n",
            "                                   Accuracy: 1.0\n",
            "                       SENSITIVITY (RECALL): 1.0\n",
            "                     SPECIFICITY (FALL-OUT): 1.0\n",
            "     POSITIVE PREDICTIVE VALUE, (PRECISION): 1.0\n",
            "                  NEGATIVE PREDICTIVE VALUE: 1.0\n",
            "\n",
            " \n",
            "Métricas del modelo de Máquina de Vectores de Soporte (PRUEBA): \n",
            "\n",
            "Matriz de Confusión: \n",
            "[[ 98   4]\n",
            " [  7 131]]\n",
            "                                   Accuracy: 0.9541666666666667\n",
            "                       SENSITIVITY (RECALL): 0.9703703703703703\n",
            "                     SPECIFICITY (FALL-OUT): 0.9333333333333333\n",
            "     POSITIVE PREDICTIVE VALUE, (PRECISION): 0.9492753623188406\n",
            "                  NEGATIVE PREDICTIVE VALUE: 0.9607843137254902\n"
          ]
        },
        {
          "output_type": "display_data",
          "data": {
            "text/plain": [
              "<Figure size 432x288 with 1 Axes>"
            ],
            "image/png": "[encoded data removed]"
          },
          "metadata": {
            "needs_background": "light"
          }
        },
        {
          "output_type": "stream",
          "name": "stdout",
          "text": [
            " AUC: 0.9955202821869488\n"
          ]
        }
      ]
    },
    {
      "cell_type": "markdown",
      "source": [
        "8. (0.3 puntos) Este punto es totalmente independiente de los anteriores: ¿Siendo usted un experto en educación que variables de la base de datos eliminaría desde el principio y porqué (dos variables)? ¿Qué variables agregaría a la base de datos y porqué (mínimo dos)?\n",
        "\n",
        "Agregaria variables de intereses y gustos del estudiante debido a que a tarves de estas se puede dar un mayor conocimiento del estudiante, es decir podríamos saber si de verdad le gusta lo que estudia o no, ya que en caso de que no le llame la atención si puede llegar a influir en una decersión del estudiante. Adicionalmente la variable de en cual semestre va el estudiante, debido a que según estudios realizados es más probable que un estudiante se cambie en los primeros semestres, o cuando no ha avanzado mucho en el programa, es decir la variable también podría ser porcentaje de avance en el programa, ya que quienes están por terminar es más probable que se graduen a si se hayan dado cuenta que lo que estudiaron no les gusta.  \n",
        "\n",
        "Por otro lado eliminaria las variables del colegio (COL) ya que el que le guste el programa, se quede en este es casi que independiente de la preparación anterior que tuvo un estudiante, como se puede observar en la siguiente sección de código, es una de las variables menos influyentes a la hora de determinar si el estudiante va a desertar o no. Adicionalmente descartaria en semestre del año en el que ingreso, ya que este tipo de análisis no se ve influenciado por aspectos como el tiempo, son más importantes aspectos como el saber los motivos por los cuales el estudiante decide estudiar x programa, si puede financiarlo, su desempeño en este programa, etc.. "
      ],
      "metadata": {
        "id": "DUiPHUGw822R"
      }
    },
    {
      "cell_type": "code",
      "source": [
        "### REFERENCIAS SOBRE RFE (Recursive Feature Elimination)\n",
        "### https://towardsdatascience.com/feature-selection-in-python-recursive-feature-elimination-19f1c39b8d15\n",
        "### https://www.kite.com/python/docs/sklearn.feature_selection.RFE\n",
        "\n",
        "from sklearn.svm import LinearSVC\n",
        "from sklearn.feature_selection import RFE\n",
        "\n",
        "# create the RFE model for the svm classifier and select attributes\n",
        "rfeSVMIN = RFE(estimator=clfl, n_features_to_select=50, step=1) \n",
        "rfeSVMIN.fit(XCS_train, y_train)\n",
        "\n",
        "ranking = rfeSVMIN.ranking_.reshape(len(X_train.columns))\n",
        "\n",
        "# Cuáles son las 20 variables que quedan en el modelo?\n",
        "pd.DataFrame([X_test.columns,ranking]).transpose().sort_values(1).head(50)"
      ],
      "metadata": {
        "colab": {
          "base_uri": "https://localhost:8080/",
          "height": 582
        },
        "id": "5btVJ_gY9QJW",
        "outputId": "42be357e-af3f-4aa3-85db-f4e13cf997a8"
      },
      "execution_count": 67,
      "outputs": [
        {
          "output_type": "execute_result",
          "data": {
            "text/plain": [
              "                            0  1\n",
              "0                        EDAD  1\n",
              "14                      TRA_2  1\n",
              "13    PRO_INGENIERIA MECANICA  1\n",
              "12  PRO_INGENIERIA INDUSTRIAL  1\n",
              "11       PRO_INGENIERIA CIVIL  1\n",
              "10   PRO_INGENIERIA AMBIENTAL  1\n",
              "9                       EST_5  1\n",
              "15                      FIN_2  1\n",
              "8                       EST_4  1\n",
              "6                       SEX_2  1\n",
              "5                         ING  1\n",
              "4                        MATP  1\n",
              "3                         SEM  1\n",
              "2                         MAT  1\n",
              "1                        PROM  1\n",
              "7                       EST_3  1\n",
              "16                      COL_2  1"
            ],
            "text/html": [
              "\n",
              "  <div id=\"df-6ebc5423-fb4c-469b-9d64-d2910db6d63d\">\n",
              "    <div class=\"colab-df-container\">\n",
              "      <div>\n",
              "<style scoped>\n",
              "    .dataframe tbody tr th:only-of-type {\n",
              "        vertical-align: middle;\n",
              "    }\n",
              "\n",
              "    .dataframe tbody tr th {\n",
              "        vertical-align: top;\n",
              "    }\n",
              "\n",
              "    .dataframe thead th {\n",
              "        text-align: right;\n",
              "    }\n",
              "</style>\n",
              "<table border=\"1\" class=\"dataframe\">\n",
              "  <thead>\n",
              "    <tr style=\"text-align: right;\">\n",
              "      <th></th>\n",
              "      <th>0</th>\n",
              "      <th>1</th>\n",
              "    </tr>\n",
              "  </thead>\n",
              "  <tbody>\n",
              "    <tr>\n",
              "      <th>0</th>\n",
              "      <td>EDAD</td>\n",
              "      <td>1</td>\n",
              "    </tr>\n",
              "    <tr>\n",
              "      <th>14</th>\n",
              "      <td>TRA_2</td>\n",
              "      <td>1</td>\n",
              "    </tr>\n",
              "    <tr>\n",
              "      <th>13</th>\n",
              "      <td>PRO_INGENIERIA MECANICA</td>\n",
              "      <td>1</td>\n",
              "    </tr>\n",
              "    <tr>\n",
              "      <th>12</th>\n",
              "      <td>PRO_INGENIERIA INDUSTRIAL</td>\n",
              "      <td>1</td>\n",
              "    </tr>\n",
              "    <tr>\n",
              "      <th>11</th>\n",
              "      <td>PRO_INGENIERIA CIVIL</td>\n",
              "      <td>1</td>\n",
              "    </tr>\n",
              "    <tr>\n",
              "      <th>10</th>\n",
              "      <td>PRO_INGENIERIA AMBIENTAL</td>\n",
              "      <td>1</td>\n",
              "    </tr>\n",
              "    <tr>\n",
              "      <th>9</th>\n",
              "      <td>EST_5</td>\n",
              "      <td>1</td>\n",
              "    </tr>\n",
              "    <tr>\n",
              "      <th>15</th>\n",
              "      <td>FIN_2</td>\n",
              "      <td>1</td>\n",
              "    </tr>\n",
              "    <tr>\n",
              "      <th>8</th>\n",
              "      <td>EST_4</td>\n",
              "      <td>1</td>\n",
              "    </tr>\n",
              "    <tr>\n",
              "      <th>6</th>\n",
              "      <td>SEX_2</td>\n",
              "      <td>1</td>\n",
              "    </tr>\n",
              "    <tr>\n",
              "      <th>5</th>\n",
              "      <td>ING</td>\n",
              "      <td>1</td>\n",
              "    </tr>\n",
              "    <tr>\n",
              "      <th>4</th>\n",
              "      <td>MATP</td>\n",
              "      <td>1</td>\n",
              "    </tr>\n",
              "    <tr>\n",
              "      <th>3</th>\n",
              "      <td>SEM</td>\n",
              "      <td>1</td>\n",
              "    </tr>\n",
              "    <tr>\n",
              "      <th>2</th>\n",
              "      <td>MAT</td>\n",
              "      <td>1</td>\n",
              "    </tr>\n",
              "    <tr>\n",
              "      <th>1</th>\n",
              "      <td>PROM</td>\n",
              "      <td>1</td>\n",
              "    </tr>\n",
              "    <tr>\n",
              "      <th>7</th>\n",
              "      <td>EST_3</td>\n",
              "      <td>1</td>\n",
              "    </tr>\n",
              "    <tr>\n",
              "      <th>16</th>\n",
              "      <td>COL_2</td>\n",
              "      <td>1</td>\n",
              "    </tr>\n",
              "  </tbody>\n",
              "</table>\n",
              "</div>\n",
              "      <button class=\"colab-df-convert\" onclick=\"convertToInteractive('df-6ebc5423-fb4c-469b-9d64-d2910db6d63d')\"\n",
              "              title=\"Convert this dataframe to an interactive table.\"\n",
              "              style=\"display:none;\">\n",
              "        \n",
              "  <svg xmlns=\"http://www.w3.org/2000/svg\" height=\"24px\"viewBox=\"0 0 24 24\"\n",
              "       width=\"24px\">\n",
              "    <path d=\"M0 0h24v24H0V0z\" fill=\"none\"/>\n",
              "    <path d=\"M18.56 5.44l.94 2.06.94-2.06 2.06-.94-2.06-.94-.94-2.06-.94 2.06-2.06.94zm-11 1L8.5 8.5l.94-2.06 2.06-.94-2.06-.94L8.5 2.5l-.94 2.06-2.06.94zm10 10l.94 2.06.94-2.06 2.06-.94-2.06-.94-.94-2.06-.94 2.06-2.06.94z\"/><path d=\"M17.41 7.96l-1.37-1.37c-.4-.4-.92-.59-1.43-.59-.52 0-1.04.2-1.43.59L10.3 9.45l-7.72 7.72c-.78.78-.78 2.05 0 2.83L4 21.41c.39.39.9.59 1.41.59.51 0 1.02-.2 1.41-.59l7.78-7.78 2.81-2.81c.8-.78.8-2.07 0-2.86zM5.41 20L4 18.59l7.72-7.72 1.47 1.35L5.41 20z\"/>\n",
              "  </svg>\n",
              "      </button>\n",
              "      \n",
              "  <style>\n",
              "    .colab-df-container {\n",
              "      display:flex;\n",
              "      flex-wrap:wrap;\n",
              "      gap: 12px;\n",
              "    }\n",
              "\n",
              "    .colab-df-convert {\n",
              "      background-color: #E8F0FE;\n",
              "      border: none;\n",
              "      border-radius: 50%;\n",
              "      cursor: pointer;\n",
              "      display: none;\n",
              "      fill: #1967D2;\n",
              "      height: 32px;\n",
              "      padding: 0 0 0 0;\n",
              "      width: 32px;\n",
              "    }\n",
              "\n",
              "    .colab-df-convert:hover {\n",
              "      background-color: #E2EBFA;\n",
              "      box-shadow: 0px 1px 2px rgba(60, 64, 67, 0.3), 0px 1px 3px 1px rgba(60, 64, 67, 0.15);\n",
              "      fill: #174EA6;\n",
              "    }\n",
              "\n",
              "    [theme=dark] .colab-df-convert {\n",
              "      background-color: #3B4455;\n",
              "      fill: #D2E3FC;\n",
              "    }\n",
              "\n",
              "    [theme=dark] .colab-df-convert:hover {\n",
              "      background-color: #434B5C;\n",
              "      box-shadow: 0px 1px 3px 1px rgba(0, 0, 0, 0.15);\n",
              "      filter: drop-shadow(0px 1px 2px rgba(0, 0, 0, 0.3));\n",
              "      fill: #FFFFFF;\n",
              "    }\n",
              "  </style>\n",
              "\n",
              "      <script>\n",
              "        const buttonEl =\n",
              "          document.querySelector('#df-6ebc5423-fb4c-469b-9d64-d2910db6d63d button.colab-df-convert');\n",
              "        buttonEl.style.display =\n",
              "          google.colab.kernel.accessAllowed ? 'block' : 'none';\n",
              "\n",
              "        async function convertToInteractive(key) {\n",
              "          const element = document.querySelector('#df-6ebc5423-fb4c-469b-9d64-d2910db6d63d');\n",
              "          const dataTable =\n",
              "            await google.colab.kernel.invokeFunction('convertToInteractive',\n",
              "                                                     [key], {});\n",
              "          if (!dataTable) return;\n",
              "\n",
              "          const docLinkHtml = 'Like what you see? Visit the ' +\n",
              "            '<a target=\"_blank\" href=https://colab.research.google.com/notebooks/data_table.ipynb>data table notebook</a>'\n",
              "            + ' to learn more about interactive tables.';\n",
              "          element.innerHTML = '';\n",
              "          dataTable['output_type'] = 'display_data';\n",
              "          await google.colab.output.renderOutput(dataTable, element);\n",
              "          const docLink = document.createElement('div');\n",
              "          docLink.innerHTML = docLinkHtml;\n",
              "          element.appendChild(docLink);\n",
              "        }\n",
              "      </script>\n",
              "    </div>\n",
              "  </div>\n",
              "  "
            ]
          },
          "metadata": {},
          "execution_count": 67
        }
      ]
    },
    {
      "cell_type": "markdown",
      "metadata": {
        "id": "86-Vn2Ixr6lz"
      },
      "source": [
        "## Resumen del SVM: \n",
        "\n",
        "- entrenamos el modelo con los hiper-parámetros por defecto\n",
        "- aplicando el modelo al dataset de prueba, obtuvimos AUC=  %\n",
        "- ahora, sintonizaremos los hiper-parámetros del modelo ..."
      ]
    }
  ],
  "metadata": {
    "kernelspec": {
      "display_name": "Python 3 (ipykernel)",
      "language": "python",
      "name": "python3"
    },
    "language_info": {
      "codemirror_mode": {
        "name": "ipython",
        "version": 3
      },
      "file_extension": ".py",
      "mimetype": "text/x-python",
      "name": "python",
      "nbconvert_exporter": "python",
      "pygments_lexer": "ipython3",
      "version": "3.9.12"
    },
    "colab": {
      "provenance": []
    }
  },
  "nbformat": 4,
  "nbformat_minor": 0
}